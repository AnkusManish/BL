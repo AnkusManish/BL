{
 "cells": [
  {
   "cell_type": "code",
   "execution_count": 21,
   "metadata": {},
   "outputs": [],
   "source": [
    "import pandas as pd\n",
    "import numpy as np\n",
    "import seaborn as sea\n",
    "import matplotlib.pyplot as plt\n",
    "%matplotlib inline\n",
    "from sklearn.preprocessing import LabelEncoder\n",
    "import re\n",
    "import nltk\n",
    "from nltk.corpus import stopwords\n",
    "from nltk.stem import PorterStemmer\n",
    "from nltk.tokenize import word_tokenize, sent_tokenize\n",
    "from sklearn.feature_extraction.text import CountVectorizer\n",
    "from sklearn.model_selection import train_test_split"
   ]
  },
  {
   "cell_type": "code",
   "execution_count": 32,
   "metadata": {},
   "outputs": [],
   "source": [
    "traindata = pd.read_csv(\"dataset/final_news.csv\") \n",
    "train_facebook_economy = pd.read_csv(\"dataset/Facebook_Economy.csv\") \n",
    "train_facebook_microsoft = pd.read_csv(\"dataset/Facebook_Microsoft.csv\")\n",
    "train_Facebook_Obama = pd.read_csv(\"dataset/Facebook_Obama.csv\")\n",
    "train_Facebook_Palestine = pd.read_csv(\"dataset/Facebook_Palestine.csv\")"
   ]
  },
  {
   "cell_type": "code",
   "execution_count": 3,
   "metadata": {},
   "outputs": [
    {
     "data": {
      "text/html": [
       "<div>\n",
       "<style scoped>\n",
       "    .dataframe tbody tr th:only-of-type {\n",
       "        vertical-align: middle;\n",
       "    }\n",
       "\n",
       "    .dataframe tbody tr th {\n",
       "        vertical-align: top;\n",
       "    }\n",
       "\n",
       "    .dataframe thead th {\n",
       "        text-align: right;\n",
       "    }\n",
       "</style>\n",
       "<table border=\"1\" class=\"dataframe\">\n",
       "  <thead>\n",
       "    <tr style=\"text-align: right;\">\n",
       "      <th></th>\n",
       "      <th>IDLink</th>\n",
       "      <th>Title</th>\n",
       "      <th>Headline</th>\n",
       "      <th>Source</th>\n",
       "      <th>Topic</th>\n",
       "      <th>PublishDate</th>\n",
       "      <th>SentimentTitle</th>\n",
       "      <th>SentimentHeadline</th>\n",
       "    </tr>\n",
       "  </thead>\n",
       "  <tbody>\n",
       "    <tr>\n",
       "      <td>0</td>\n",
       "      <td>99248.0</td>\n",
       "      <td>Obama Lays Wreath at Arlington National Cemetery</td>\n",
       "      <td>Obama Lays Wreath at Arlington National Cemete...</td>\n",
       "      <td>USA TODAY</td>\n",
       "      <td>obama</td>\n",
       "      <td>4/2/02 0:00</td>\n",
       "      <td>0.000000</td>\n",
       "      <td>-0.053300</td>\n",
       "    </tr>\n",
       "    <tr>\n",
       "      <td>1</td>\n",
       "      <td>10423.0</td>\n",
       "      <td>A Look at the Health of the Chinese Economy</td>\n",
       "      <td>Tim Haywood, investment director business-unit...</td>\n",
       "      <td>Bloomberg</td>\n",
       "      <td>economy</td>\n",
       "      <td>9/20/08 0:00</td>\n",
       "      <td>0.208333</td>\n",
       "      <td>-0.156386</td>\n",
       "    </tr>\n",
       "    <tr>\n",
       "      <td>2</td>\n",
       "      <td>18828.0</td>\n",
       "      <td>Nouriel Roubini: Global Economy Not Back to 2008</td>\n",
       "      <td>Nouriel Roubini, NYU professor and chairman at...</td>\n",
       "      <td>Bloomberg</td>\n",
       "      <td>economy</td>\n",
       "      <td>1/28/12 0:00</td>\n",
       "      <td>-0.425210</td>\n",
       "      <td>0.139754</td>\n",
       "    </tr>\n",
       "    <tr>\n",
       "      <td>3</td>\n",
       "      <td>27788.0</td>\n",
       "      <td>Finland GDP Expands In Q4</td>\n",
       "      <td>Finland's economy expanded marginally in the t...</td>\n",
       "      <td>RTT News</td>\n",
       "      <td>economy</td>\n",
       "      <td>3/1/15 0:06</td>\n",
       "      <td>0.000000</td>\n",
       "      <td>0.026064</td>\n",
       "    </tr>\n",
       "    <tr>\n",
       "      <td>4</td>\n",
       "      <td>27789.0</td>\n",
       "      <td>Tourism, govt spending buoys Thai economy in J...</td>\n",
       "      <td>Tourism and public spending continued to boost...</td>\n",
       "      <td>The Nation - Thailand&amp;#39;s English news</td>\n",
       "      <td>economy</td>\n",
       "      <td>3/1/15 0:11</td>\n",
       "      <td>0.000000</td>\n",
       "      <td>0.141084</td>\n",
       "    </tr>\n",
       "  </tbody>\n",
       "</table>\n",
       "</div>"
      ],
      "text/plain": [
       "    IDLink                                              Title  \\\n",
       "0  99248.0   Obama Lays Wreath at Arlington National Cemetery   \n",
       "1  10423.0        A Look at the Health of the Chinese Economy   \n",
       "2  18828.0   Nouriel Roubini: Global Economy Not Back to 2008   \n",
       "3  27788.0                          Finland GDP Expands In Q4   \n",
       "4  27789.0  Tourism, govt spending buoys Thai economy in J...   \n",
       "\n",
       "                                            Headline  \\\n",
       "0  Obama Lays Wreath at Arlington National Cemete...   \n",
       "1  Tim Haywood, investment director business-unit...   \n",
       "2  Nouriel Roubini, NYU professor and chairman at...   \n",
       "3  Finland's economy expanded marginally in the t...   \n",
       "4  Tourism and public spending continued to boost...   \n",
       "\n",
       "                                     Source    Topic   PublishDate  \\\n",
       "0                                 USA TODAY    obama   4/2/02 0:00   \n",
       "1                                 Bloomberg  economy  9/20/08 0:00   \n",
       "2                                 Bloomberg  economy  1/28/12 0:00   \n",
       "3                                  RTT News  economy   3/1/15 0:06   \n",
       "4  The Nation - Thailand&#39;s English news  economy   3/1/15 0:11   \n",
       "\n",
       "   SentimentTitle  SentimentHeadline  \n",
       "0        0.000000          -0.053300  \n",
       "1        0.208333          -0.156386  \n",
       "2       -0.425210           0.139754  \n",
       "3        0.000000           0.026064  \n",
       "4        0.000000           0.141084  "
      ]
     },
     "execution_count": 3,
     "metadata": {},
     "output_type": "execute_result"
    }
   ],
   "source": [
    "traindata.head()"
   ]
  },
  {
   "cell_type": "code",
   "execution_count": 4,
   "metadata": {},
   "outputs": [
    {
     "data": {
      "text/plain": [
       "'Obama Lays Wreath at Arlington National Cemetery. President Barack Obama has laid a wreath at the Tomb of the Unknowns to honor'"
      ]
     },
     "execution_count": 4,
     "metadata": {},
     "output_type": "execute_result"
    }
   ],
   "source": [
    "traindata['Headline'][0]"
   ]
  },
  {
   "cell_type": "code",
   "execution_count": 34,
   "metadata": {},
   "outputs": [],
   "source": [
    "bigdata_facebook = pd.concat([train_facebook_economy, train_facebook_microsoft, train_Facebook_Obama, train_Facebook_Palestine], ignore_index=True)\n",
    "facebook_merge = pd.merge(traindata, bigdata_facebook, on=\"IDLink\") \n"
   ]
  },
  {
   "cell_type": "code",
   "execution_count": 35,
   "metadata": {},
   "outputs": [
    {
     "data": {
      "text/html": [
       "<div>\n",
       "<style scoped>\n",
       "    .dataframe tbody tr th:only-of-type {\n",
       "        vertical-align: middle;\n",
       "    }\n",
       "\n",
       "    .dataframe tbody tr th {\n",
       "        vertical-align: top;\n",
       "    }\n",
       "\n",
       "    .dataframe thead th {\n",
       "        text-align: right;\n",
       "    }\n",
       "</style>\n",
       "<table border=\"1\" class=\"dataframe\">\n",
       "  <thead>\n",
       "    <tr style=\"text-align: right;\">\n",
       "      <th></th>\n",
       "      <th>IDLink</th>\n",
       "      <th>Title</th>\n",
       "      <th>Headline</th>\n",
       "      <th>Source</th>\n",
       "      <th>Topic</th>\n",
       "      <th>PublishDate</th>\n",
       "      <th>SentimentTitle</th>\n",
       "      <th>SentimentHeadline</th>\n",
       "      <th>TS1</th>\n",
       "      <th>TS2</th>\n",
       "      <th>...</th>\n",
       "      <th>TS135</th>\n",
       "      <th>TS136</th>\n",
       "      <th>TS137</th>\n",
       "      <th>TS138</th>\n",
       "      <th>TS139</th>\n",
       "      <th>TS140</th>\n",
       "      <th>TS141</th>\n",
       "      <th>TS142</th>\n",
       "      <th>TS143</th>\n",
       "      <th>TS144</th>\n",
       "    </tr>\n",
       "  </thead>\n",
       "  <tbody>\n",
       "    <tr>\n",
       "      <td>0</td>\n",
       "      <td>80690.0</td>\n",
       "      <td>Monday, 29 Feb 2016</td>\n",
       "      <td>RAMALLAH, February 25, 2016 (WAFA) - Palestine...</td>\n",
       "      <td>NaN</td>\n",
       "      <td>palestine</td>\n",
       "      <td>2/28/16 14:03</td>\n",
       "      <td>0.000000</td>\n",
       "      <td>-0.005906</td>\n",
       "      <td>-1</td>\n",
       "      <td>-1</td>\n",
       "      <td>...</td>\n",
       "      <td>0</td>\n",
       "      <td>0</td>\n",
       "      <td>0</td>\n",
       "      <td>0</td>\n",
       "      <td>0</td>\n",
       "      <td>0</td>\n",
       "      <td>0</td>\n",
       "      <td>0</td>\n",
       "      <td>0</td>\n",
       "      <td>0</td>\n",
       "    </tr>\n",
       "    <tr>\n",
       "      <td>1</td>\n",
       "      <td>80690.0</td>\n",
       "      <td>Monday, 29 Feb 2016</td>\n",
       "      <td>RAMALLAH, February 25, 2016 (WAFA) - Palestine...</td>\n",
       "      <td>NaN</td>\n",
       "      <td>palestine</td>\n",
       "      <td>2/28/16 14:03</td>\n",
       "      <td>0.000000</td>\n",
       "      <td>-0.005906</td>\n",
       "      <td>-1</td>\n",
       "      <td>-1</td>\n",
       "      <td>...</td>\n",
       "      <td>0</td>\n",
       "      <td>0</td>\n",
       "      <td>0</td>\n",
       "      <td>0</td>\n",
       "      <td>0</td>\n",
       "      <td>0</td>\n",
       "      <td>0</td>\n",
       "      <td>0</td>\n",
       "      <td>0</td>\n",
       "      <td>0</td>\n",
       "    </tr>\n",
       "    <tr>\n",
       "      <td>2</td>\n",
       "      <td>81052.0</td>\n",
       "      <td>Monday, 29 Feb 2016</td>\n",
       "      <td>RAMALLAH, February 29, 2016 (WAFA) - The Gover...</td>\n",
       "      <td>NaN</td>\n",
       "      <td>palestine</td>\n",
       "      <td>3/1/16 9:29</td>\n",
       "      <td>0.000000</td>\n",
       "      <td>0.048546</td>\n",
       "      <td>-1</td>\n",
       "      <td>-1</td>\n",
       "      <td>...</td>\n",
       "      <td>0</td>\n",
       "      <td>0</td>\n",
       "      <td>0</td>\n",
       "      <td>0</td>\n",
       "      <td>0</td>\n",
       "      <td>0</td>\n",
       "      <td>0</td>\n",
       "      <td>0</td>\n",
       "      <td>0</td>\n",
       "      <td>0</td>\n",
       "    </tr>\n",
       "    <tr>\n",
       "      <td>3</td>\n",
       "      <td>81052.0</td>\n",
       "      <td>Monday, 29 Feb 2016</td>\n",
       "      <td>RAMALLAH, February 29, 2016 (WAFA) - The Gover...</td>\n",
       "      <td>NaN</td>\n",
       "      <td>palestine</td>\n",
       "      <td>3/1/16 9:29</td>\n",
       "      <td>0.000000</td>\n",
       "      <td>0.048546</td>\n",
       "      <td>-1</td>\n",
       "      <td>-1</td>\n",
       "      <td>...</td>\n",
       "      <td>0</td>\n",
       "      <td>0</td>\n",
       "      <td>0</td>\n",
       "      <td>0</td>\n",
       "      <td>0</td>\n",
       "      <td>0</td>\n",
       "      <td>0</td>\n",
       "      <td>0</td>\n",
       "      <td>0</td>\n",
       "      <td>0</td>\n",
       "    </tr>\n",
       "    <tr>\n",
       "      <td>4</td>\n",
       "      <td>80994.0</td>\n",
       "      <td>Tuesday, 1 Mar 2016</td>\n",
       "      <td>RAMALLAH, February 29, 2016 (WAFA) - The Gover...</td>\n",
       "      <td>NaN</td>\n",
       "      <td>palestine</td>\n",
       "      <td>3/1/16 0:15</td>\n",
       "      <td>-0.243068</td>\n",
       "      <td>0.048546</td>\n",
       "      <td>-1</td>\n",
       "      <td>-1</td>\n",
       "      <td>...</td>\n",
       "      <td>0</td>\n",
       "      <td>0</td>\n",
       "      <td>0</td>\n",
       "      <td>0</td>\n",
       "      <td>0</td>\n",
       "      <td>0</td>\n",
       "      <td>0</td>\n",
       "      <td>0</td>\n",
       "      <td>0</td>\n",
       "      <td>0</td>\n",
       "    </tr>\n",
       "  </tbody>\n",
       "</table>\n",
       "<p>5 rows × 152 columns</p>\n",
       "</div>"
      ],
      "text/plain": [
       "    IDLink                Title  \\\n",
       "0  80690.0  Monday, 29 Feb 2016   \n",
       "1  80690.0  Monday, 29 Feb 2016   \n",
       "2  81052.0  Monday, 29 Feb 2016   \n",
       "3  81052.0  Monday, 29 Feb 2016   \n",
       "4  80994.0  Tuesday, 1 Mar 2016   \n",
       "\n",
       "                                            Headline Source      Topic  \\\n",
       "0  RAMALLAH, February 25, 2016 (WAFA) - Palestine...    NaN  palestine   \n",
       "1  RAMALLAH, February 25, 2016 (WAFA) - Palestine...    NaN  palestine   \n",
       "2  RAMALLAH, February 29, 2016 (WAFA) - The Gover...    NaN  palestine   \n",
       "3  RAMALLAH, February 29, 2016 (WAFA) - The Gover...    NaN  palestine   \n",
       "4  RAMALLAH, February 29, 2016 (WAFA) - The Gover...    NaN  palestine   \n",
       "\n",
       "     PublishDate  SentimentTitle  SentimentHeadline  TS1  TS2  ...  TS135  \\\n",
       "0  2/28/16 14:03        0.000000          -0.005906   -1   -1  ...      0   \n",
       "1  2/28/16 14:03        0.000000          -0.005906   -1   -1  ...      0   \n",
       "2    3/1/16 9:29        0.000000           0.048546   -1   -1  ...      0   \n",
       "3    3/1/16 9:29        0.000000           0.048546   -1   -1  ...      0   \n",
       "4    3/1/16 0:15       -0.243068           0.048546   -1   -1  ...      0   \n",
       "\n",
       "   TS136  TS137  TS138  TS139  TS140  TS141  TS142  TS143  TS144  \n",
       "0      0      0      0      0      0      0      0      0      0  \n",
       "1      0      0      0      0      0      0      0      0      0  \n",
       "2      0      0      0      0      0      0      0      0      0  \n",
       "3      0      0      0      0      0      0      0      0      0  \n",
       "4      0      0      0      0      0      0      0      0      0  \n",
       "\n",
       "[5 rows x 152 columns]"
      ]
     },
     "execution_count": 35,
     "metadata": {},
     "output_type": "execute_result"
    }
   ],
   "source": [
    "facebook_merge.head()"
   ]
  },
  {
   "cell_type": "code",
   "execution_count": 8,
   "metadata": {},
   "outputs": [
    {
     "data": {
      "text/plain": [
       "economy      33928\n",
       "obama        28610\n",
       "microsoft    21858\n",
       "palestine     8843\n",
       "Name: Topic, dtype: int64"
      ]
     },
     "execution_count": 8,
     "metadata": {},
     "output_type": "execute_result"
    }
   ],
   "source": [
    "topic_detection['Topic'].value_counts()"
   ]
  },
  {
   "cell_type": "code",
   "execution_count": 12,
   "metadata": {},
   "outputs": [
    {
     "data": {
      "image/png": "[encoded data removed]",
      "text/plain": [
       "<Figure size 576x432 with 1 Axes>"
      ]
     },
     "metadata": {
      "needs_background": "light"
     },
     "output_type": "display_data"
    }
   ],
   "source": [
    "plt.figure(figsize = (8,6))\n",
    "sea.countplot(topic_detection['Topic'])\n",
    "plt.show()"
   ]
  },
  {
   "cell_type": "code",
   "execution_count": 54,
   "metadata": {},
   "outputs": [],
   "source": [
    "X = facebook_merge['Headline']\n",
    "y = facebook_merge['Topic']"
   ]
  },
  {
   "cell_type": "markdown",
   "metadata": {},
   "source": [
    "## Data Preprocessing"
   ]
  },
  {
   "cell_type": "code",
   "execution_count": 52,
   "metadata": {},
   "outputs": [],
   "source": [
    "text = facebook_merge['Headline']\n",
    "\n",
    "#removing pantuations and numeric data from the list of strings \n",
    "text_data = []\n",
    "for i in range(len(text)):\n",
    "    line = re.sub('[^a-zA-Z]+', ' ',str(text[i]))\n",
    "\n",
    "    line = [ps.stem(i) for i in word_tokenize(line) if i not in stopwords.words('english')] #removing stopwords\n",
    "    \n",
    "    line = ' '.join(line)\n",
    "    \n",
    "    text_data.append(line)"
   ]
  },
  {
   "cell_type": "code",
   "execution_count": 56,
   "metadata": {},
   "outputs": [],
   "source": [
    "X = text_data\n",
    "#Splitting the data into train and test\n",
    "x_train, x_test, y_train, y_test = train_test_split(X, y, test_size=0.25)"
   ]
  },
  {
   "cell_type": "code",
   "execution_count": 76,
   "metadata": {},
   "outputs": [],
   "source": [
    "#CountVectorizer converts the given text into vectors\n",
    "vector = CountVectorizer()\n",
    "x_train = vector.fit_transform(x_train).toarray()"
   ]
  },
  {
   "cell_type": "code",
   "execution_count": 99,
   "metadata": {
    "scrolled": true
   },
   "outputs": [],
   "source": [
    "#x_test = vector.transform(x_test).toarray()"
   ]
  },
  {
   "cell_type": "code",
   "execution_count": 87,
   "metadata": {},
   "outputs": [],
   "source": [
    "x_test = x_test.toarray()"
   ]
  },
  {
   "cell_type": "code",
   "execution_count": 69,
   "metadata": {},
   "outputs": [],
   "source": [
    "#converting Topic column to numeric labels\n",
    "lb_enc = LabelEncoder()\n",
    "y_train = lb_enc.fit_transform(y_train)\n",
    "y_test = lb_enc.transform(y_test)"
   ]
  },
  {
   "cell_type": "code",
   "execution_count": 16,
   "metadata": {},
   "outputs": [],
   "source": [
    "#0 - Economy\n",
    "#1 - Microsoft\n",
    "#2 - Obama\n",
    "#3 - Palestine"
   ]
  },
  {
   "cell_type": "code",
   "execution_count": 70,
   "metadata": {},
   "outputs": [],
   "source": [
    "from sklearn.naive_bayes import MultinomialNB, GaussianNB, BernoulliNB\n"
   ]
  },
  {
   "cell_type": "code",
   "execution_count": 89,
   "metadata": {},
   "outputs": [
    {
     "data": {
      "text/plain": [
       "MultinomialNB(alpha=1.0, class_prior=None, fit_prior=True)"
      ]
     },
     "execution_count": 89,
     "metadata": {},
     "output_type": "execute_result"
    }
   ],
   "source": [
    "#fitting the data to the model\n",
    "multi_NB = MultinomialNB()\n",
    "multi_NB.fit(x_train, y_train)"
   ]
  },
  {
   "cell_type": "code",
   "execution_count": 90,
   "metadata": {},
   "outputs": [],
   "source": [
    "pred = multi_NB.predict(x_test)"
   ]
  },
  {
   "cell_type": "code",
   "execution_count": 96,
   "metadata": {},
   "outputs": [],
   "source": [
    "from sklearn.metrics import accuracy_score, classification_report"
   ]
  },
  {
   "cell_type": "code",
   "execution_count": 102,
   "metadata": {},
   "outputs": [
    {
     "name": "stdout",
     "output_type": "stream",
     "text": [
      "Accuracy Score : 0.9623875715453802\n"
     ]
    }
   ],
   "source": [
    "print('Accuracy Score : {}'. format(accuracy_score(y_test, pred)))"
   ]
  },
  {
   "cell_type": "code",
   "execution_count": 98,
   "metadata": {},
   "outputs": [
    {
     "name": "stdout",
     "output_type": "stream",
     "text": [
      "              precision    recall  f1-score   support\n",
      "\n",
      "           0       0.98      0.94      0.96      7606\n",
      "           1       0.97      0.98      0.98      4590\n",
      "           2       0.94      0.98      0.96      6732\n",
      "           3       0.95      0.94      0.95      1863\n",
      "\n",
      "    accuracy                           0.96     20791\n",
      "   macro avg       0.96      0.96      0.96     20791\n",
      "weighted avg       0.96      0.96      0.96     20791\n",
      "\n"
     ]
    }
   ],
   "source": [
    "print(classification_report(y_test, pred))"
   ]
  },
  {
   "cell_type": "markdown",
   "metadata": {},
   "source": [
    "## The model doesn't seem to look over fitted because all classes have closely same F1 scores, it looks balanced"
   ]
  },
  {
   "cell_type": "markdown",
   "metadata": {},
   "source": [
    "# NLP with deep Learning"
   ]
  },
  {
   "cell_type": "code",
   "execution_count": 114,
   "metadata": {},
   "outputs": [],
   "source": [
    "import tensorflow as tf\n",
    "from tensorflow.keras.models import Sequential\n",
    "from tensorflow.keras.layers import Dense, LSTM, Bidirectional, Activation, Embedding, Flatten\n",
    "from keras.utils import to_categorical\n",
    "from keras.optimizers import Adam, SGD\n",
    "from tensorflow.keras.preprocessing.text import Tokenizer\n",
    "from tensorflow.keras.preprocessing.sequence import pad_sequences"
   ]
  },
  {
   "cell_type": "code",
   "execution_count": 107,
   "metadata": {},
   "outputs": [
    {
     "name": "stdout",
     "output_type": "stream",
     "text": [
      "30709\n"
     ]
    }
   ],
   "source": [
    "tokenizer = Tokenizer(oov_token = '<UNK>')\n",
    "tokenizer.fit_on_texts(text_data)\n",
    "word_index = tokenizer.word_index\n",
    "\n",
    "print(len(word_index))"
   ]
  },
  {
   "cell_type": "code",
   "execution_count": 109,
   "metadata": {},
   "outputs": [],
   "source": [
    "sequences = tokenizer.texts_to_sequences(text_data)\n",
    "padded = pad_sequences(sequences, padding = 'post')"
   ]
  },
  {
   "cell_type": "code",
   "execution_count": 129,
   "metadata": {},
   "outputs": [],
   "source": [
    "y = lb.transform(y)"
   ]
  },
  {
   "cell_type": "code",
   "execution_count": 130,
   "metadata": {},
   "outputs": [],
   "source": [
    "X_train, X_test, y_train, y_test = train_test_split(padded, y, test_size=0.3, random_state=42)"
   ]
  },
  {
   "cell_type": "code",
   "execution_count": 168,
   "metadata": {},
   "outputs": [
    {
     "name": "stdout",
     "output_type": "stream",
     "text": [
      "Model: \"sequential_12\"\n",
      "_________________________________________________________________\n",
      "Layer (type)                 Output Shape              Param #   \n",
      "=================================================================\n",
      "embedding_12 (Embedding)     (None, 62, 40)            1252960   \n",
      "_________________________________________________________________\n",
      "lstm_24 (LSTM)               (None, 62, 128)           86528     \n",
      "_________________________________________________________________\n",
      "lstm_25 (LSTM)               (None, 64)                49408     \n",
      "_________________________________________________________________\n",
      "dense_12 (Dense)             (None, 4)                 260       \n",
      "=================================================================\n",
      "Total params: 1,389,156\n",
      "Trainable params: 1,389,156\n",
      "Non-trainable params: 0\n",
      "_________________________________________________________________\n"
     ]
    }
   ],
   "source": [
    "model = Sequential()\n",
    "model.add(Embedding(31324,40, input_length = 62))\n",
    "model.add(LSTM(128, return_sequences=True))\n",
    "model.add(LSTM(64, return_sequences=False))\n",
    "model.add(Dense(4,activation='softmax'))\n",
    "model.compile(loss='categorical_crossentropy',optimizer='adam',metrics=['accuracy'])\n",
    "model.summary()"
   ]
  },
  {
   "cell_type": "code",
   "execution_count": 169,
   "metadata": {},
   "outputs": [],
   "source": [
    "y_train_cat = to_categorical(y_train)\n",
    "y_test_cat = to_categorical(y_test)"
   ]
  },
  {
   "cell_type": "code",
   "execution_count": 170,
   "metadata": {},
   "outputs": [],
   "source": [
    "epochs = 5\n",
    "batch_size = 500"
   ]
  },
  {
   "cell_type": "code",
   "execution_count": 171,
   "metadata": {},
   "outputs": [
    {
     "data": {
      "text/plain": [
       "(58214,)"
      ]
     },
     "execution_count": 171,
     "metadata": {},
     "output_type": "execute_result"
    }
   ],
   "source": [
    "y_train.shape"
   ]
  },
  {
   "cell_type": "code",
   "execution_count": 173,
   "metadata": {},
   "outputs": [
    {
     "name": "stdout",
     "output_type": "stream",
     "text": [
      "Epoch 1/5\n",
      "58214/58214 [==============================] - 118s 2ms/sample - loss: 0.7257 - acc: 0.6256\n",
      "Epoch 2/5\n",
      "58214/58214 [==============================] - 119s 2ms/sample - loss: 0.2053 - acc: 0.9450\n",
      "Epoch 3/5\n",
      "58214/58214 [==============================] - 118s 2ms/sample - loss: 0.1127 - acc: 0.9648\n",
      "Epoch 4/5\n",
      "58214/58214 [==============================] - 114s 2ms/sample - loss: 0.0752 - acc: 0.9781\n",
      "Epoch 5/5\n",
      "58214/58214 [==============================] - 113s 2ms/sample - loss: 0.1066 - acc: 0.9742\n"
     ]
    },
    {
     "data": {
      "text/plain": [
       "<tensorflow.python.keras.callbacks.History at 0x23faf03f50>"
      ]
     },
     "execution_count": 173,
     "metadata": {},
     "output_type": "execute_result"
    }
   ],
   "source": [
    "model.fit(X_train, y_train_cat, epochs=epochs, batch_size=batch_size)"
   ]
  },
  {
   "cell_type": "code",
   "execution_count": 197,
   "metadata": {},
   "outputs": [],
   "source": [
    "#the accuracy is little better than the previous model"
   ]
  },
  {
   "cell_type": "markdown",
   "metadata": {},
   "source": [
    "## Sentiment analysis regression "
   ]
  },
  {
   "cell_type": "code",
   "execution_count": 179,
   "metadata": {},
   "outputs": [
    {
     "data": {
      "text/html": [
       "<div>\n",
       "<style scoped>\n",
       "    .dataframe tbody tr th:only-of-type {\n",
       "        vertical-align: middle;\n",
       "    }\n",
       "\n",
       "    .dataframe tbody tr th {\n",
       "        vertical-align: top;\n",
       "    }\n",
       "\n",
       "    .dataframe thead th {\n",
       "        text-align: right;\n",
       "    }\n",
       "</style>\n",
       "<table border=\"1\" class=\"dataframe\">\n",
       "  <thead>\n",
       "    <tr style=\"text-align: right;\">\n",
       "      <th></th>\n",
       "      <th>IDLink</th>\n",
       "      <th>Title</th>\n",
       "      <th>Headline</th>\n",
       "      <th>Source</th>\n",
       "      <th>Topic</th>\n",
       "      <th>PublishDate</th>\n",
       "      <th>SentimentTitle</th>\n",
       "      <th>SentimentHeadline</th>\n",
       "      <th>TS1</th>\n",
       "      <th>TS2</th>\n",
       "      <th>...</th>\n",
       "      <th>TS135</th>\n",
       "      <th>TS136</th>\n",
       "      <th>TS137</th>\n",
       "      <th>TS138</th>\n",
       "      <th>TS139</th>\n",
       "      <th>TS140</th>\n",
       "      <th>TS141</th>\n",
       "      <th>TS142</th>\n",
       "      <th>TS143</th>\n",
       "      <th>TS144</th>\n",
       "    </tr>\n",
       "  </thead>\n",
       "  <tbody>\n",
       "    <tr>\n",
       "      <td>0</td>\n",
       "      <td>80690.0</td>\n",
       "      <td>Monday, 29 Feb 2016</td>\n",
       "      <td>RAMALLAH, February 25, 2016 (WAFA) - Palestine...</td>\n",
       "      <td>NaN</td>\n",
       "      <td>palestine</td>\n",
       "      <td>2/28/16 14:03</td>\n",
       "      <td>0.000000</td>\n",
       "      <td>-0.005906</td>\n",
       "      <td>-1</td>\n",
       "      <td>-1</td>\n",
       "      <td>...</td>\n",
       "      <td>0</td>\n",
       "      <td>0</td>\n",
       "      <td>0</td>\n",
       "      <td>0</td>\n",
       "      <td>0</td>\n",
       "      <td>0</td>\n",
       "      <td>0</td>\n",
       "      <td>0</td>\n",
       "      <td>0</td>\n",
       "      <td>0</td>\n",
       "    </tr>\n",
       "    <tr>\n",
       "      <td>1</td>\n",
       "      <td>80690.0</td>\n",
       "      <td>Monday, 29 Feb 2016</td>\n",
       "      <td>RAMALLAH, February 25, 2016 (WAFA) - Palestine...</td>\n",
       "      <td>NaN</td>\n",
       "      <td>palestine</td>\n",
       "      <td>2/28/16 14:03</td>\n",
       "      <td>0.000000</td>\n",
       "      <td>-0.005906</td>\n",
       "      <td>-1</td>\n",
       "      <td>-1</td>\n",
       "      <td>...</td>\n",
       "      <td>0</td>\n",
       "      <td>0</td>\n",
       "      <td>0</td>\n",
       "      <td>0</td>\n",
       "      <td>0</td>\n",
       "      <td>0</td>\n",
       "      <td>0</td>\n",
       "      <td>0</td>\n",
       "      <td>0</td>\n",
       "      <td>0</td>\n",
       "    </tr>\n",
       "    <tr>\n",
       "      <td>2</td>\n",
       "      <td>81052.0</td>\n",
       "      <td>Monday, 29 Feb 2016</td>\n",
       "      <td>RAMALLAH, February 29, 2016 (WAFA) - The Gover...</td>\n",
       "      <td>NaN</td>\n",
       "      <td>palestine</td>\n",
       "      <td>3/1/16 9:29</td>\n",
       "      <td>0.000000</td>\n",
       "      <td>0.048546</td>\n",
       "      <td>-1</td>\n",
       "      <td>-1</td>\n",
       "      <td>...</td>\n",
       "      <td>0</td>\n",
       "      <td>0</td>\n",
       "      <td>0</td>\n",
       "      <td>0</td>\n",
       "      <td>0</td>\n",
       "      <td>0</td>\n",
       "      <td>0</td>\n",
       "      <td>0</td>\n",
       "      <td>0</td>\n",
       "      <td>0</td>\n",
       "    </tr>\n",
       "    <tr>\n",
       "      <td>3</td>\n",
       "      <td>81052.0</td>\n",
       "      <td>Monday, 29 Feb 2016</td>\n",
       "      <td>RAMALLAH, February 29, 2016 (WAFA) - The Gover...</td>\n",
       "      <td>NaN</td>\n",
       "      <td>palestine</td>\n",
       "      <td>3/1/16 9:29</td>\n",
       "      <td>0.000000</td>\n",
       "      <td>0.048546</td>\n",
       "      <td>-1</td>\n",
       "      <td>-1</td>\n",
       "      <td>...</td>\n",
       "      <td>0</td>\n",
       "      <td>0</td>\n",
       "      <td>0</td>\n",
       "      <td>0</td>\n",
       "      <td>0</td>\n",
       "      <td>0</td>\n",
       "      <td>0</td>\n",
       "      <td>0</td>\n",
       "      <td>0</td>\n",
       "      <td>0</td>\n",
       "    </tr>\n",
       "    <tr>\n",
       "      <td>4</td>\n",
       "      <td>80994.0</td>\n",
       "      <td>Tuesday, 1 Mar 2016</td>\n",
       "      <td>RAMALLAH, February 29, 2016 (WAFA) - The Gover...</td>\n",
       "      <td>NaN</td>\n",
       "      <td>palestine</td>\n",
       "      <td>3/1/16 0:15</td>\n",
       "      <td>-0.243068</td>\n",
       "      <td>0.048546</td>\n",
       "      <td>-1</td>\n",
       "      <td>-1</td>\n",
       "      <td>...</td>\n",
       "      <td>0</td>\n",
       "      <td>0</td>\n",
       "      <td>0</td>\n",
       "      <td>0</td>\n",
       "      <td>0</td>\n",
       "      <td>0</td>\n",
       "      <td>0</td>\n",
       "      <td>0</td>\n",
       "      <td>0</td>\n",
       "      <td>0</td>\n",
       "    </tr>\n",
       "  </tbody>\n",
       "</table>\n",
       "<p>5 rows × 152 columns</p>\n",
       "</div>"
      ],
      "text/plain": [
       "    IDLink                Title  \\\n",
       "0  80690.0  Monday, 29 Feb 2016   \n",
       "1  80690.0  Monday, 29 Feb 2016   \n",
       "2  81052.0  Monday, 29 Feb 2016   \n",
       "3  81052.0  Monday, 29 Feb 2016   \n",
       "4  80994.0  Tuesday, 1 Mar 2016   \n",
       "\n",
       "                                            Headline Source      Topic  \\\n",
       "0  RAMALLAH, February 25, 2016 (WAFA) - Palestine...    NaN  palestine   \n",
       "1  RAMALLAH, February 25, 2016 (WAFA) - Palestine...    NaN  palestine   \n",
       "2  RAMALLAH, February 29, 2016 (WAFA) - The Gover...    NaN  palestine   \n",
       "3  RAMALLAH, February 29, 2016 (WAFA) - The Gover...    NaN  palestine   \n",
       "4  RAMALLAH, February 29, 2016 (WAFA) - The Gover...    NaN  palestine   \n",
       "\n",
       "     PublishDate  SentimentTitle  SentimentHeadline  TS1  TS2  ...  TS135  \\\n",
       "0  2/28/16 14:03        0.000000          -0.005906   -1   -1  ...      0   \n",
       "1  2/28/16 14:03        0.000000          -0.005906   -1   -1  ...      0   \n",
       "2    3/1/16 9:29        0.000000           0.048546   -1   -1  ...      0   \n",
       "3    3/1/16 9:29        0.000000           0.048546   -1   -1  ...      0   \n",
       "4    3/1/16 0:15       -0.243068           0.048546   -1   -1  ...      0   \n",
       "\n",
       "   TS136  TS137  TS138  TS139  TS140  TS141  TS142  TS143  TS144  \n",
       "0      0      0      0      0      0      0      0      0      0  \n",
       "1      0      0      0      0      0      0      0      0      0  \n",
       "2      0      0      0      0      0      0      0      0      0  \n",
       "3      0      0      0      0      0      0      0      0      0  \n",
       "4      0      0      0      0      0      0      0      0      0  \n",
       "\n",
       "[5 rows x 152 columns]"
      ]
     },
     "execution_count": 179,
     "metadata": {},
     "output_type": "execute_result"
    }
   ],
   "source": [
    "facebook_merge.head()"
   ]
  },
  {
   "cell_type": "code",
   "execution_count": 180,
   "metadata": {},
   "outputs": [],
   "source": [
    "X = facebook_merge.drop(['IDLink','Title','Headline','Source','Topic','PublishDate', 'SentimentTitle','SentimentHeadline'], axis = 1)\n",
    "y = facebook_merge['SentimentHeadline'].values"
   ]
  },
  {
   "cell_type": "code",
   "execution_count": 181,
   "metadata": {},
   "outputs": [],
   "source": [
    "from sklearn.preprocessing import StandardScaler"
   ]
  },
  {
   "cell_type": "code",
   "execution_count": 182,
   "metadata": {},
   "outputs": [],
   "source": [
    "sc = StandardScaler()"
   ]
  },
  {
   "cell_type": "code",
   "execution_count": 185,
   "metadata": {},
   "outputs": [],
   "source": [
    "X = sc.fit_transform(X.values)"
   ]
  },
  {
   "cell_type": "code",
   "execution_count": 187,
   "metadata": {},
   "outputs": [],
   "source": [
    "X_train, X_test, y_train, y_test = train_test_split(X, y, test_size=0.33, random_state=42)"
   ]
  },
  {
   "cell_type": "code",
   "execution_count": 188,
   "metadata": {},
   "outputs": [],
   "source": [
    "from sklearn.linear_model import LinearRegression"
   ]
  },
  {
   "cell_type": "code",
   "execution_count": 189,
   "metadata": {},
   "outputs": [
    {
     "data": {
      "text/plain": [
       "LinearRegression(copy_X=True, fit_intercept=True, n_jobs=None, normalize=False)"
      ]
     },
     "execution_count": 189,
     "metadata": {},
     "output_type": "execute_result"
    }
   ],
   "source": [
    "lr = LinearRegression()\n",
    "lr.fit(X_train, y_train)"
   ]
  },
  {
   "cell_type": "code",
   "execution_count": 190,
   "metadata": {},
   "outputs": [],
   "source": [
    "pred = lr.predict(X_test)"
   ]
  },
  {
   "cell_type": "code",
   "execution_count": 192,
   "metadata": {},
   "outputs": [],
   "source": [
    "from sklearn.metrics import mean_absolute_error, mean_squared_error"
   ]
  },
  {
   "cell_type": "code",
   "execution_count": 196,
   "metadata": {},
   "outputs": [
    {
     "name": "stdout",
     "output_type": "stream",
     "text": [
      "The root mean Squared error : 0.020585324473777904\n"
     ]
    }
   ],
   "source": [
    "print('The root mean Squared error : {}'.format(mean_squared_error(y_test,pred)))"
   ]
  },
  {
   "cell_type": "code",
   "execution_count": null,
   "metadata": {},
   "outputs": [],
   "source": []
  }
 ],
 "metadata": {
  "kernelspec": {
   "display_name": "Python 3",
   "language": "python",
   "name": "python3"
  },
  "language_info": {
   "codemirror_mode": {
    "name": "ipython",
    "version": 3
   },
   "file_extension": ".py",
   "mimetype": "text/x-python",
   "name": "python",
   "nbconvert_exporter": "python",
   "pygments_lexer": "ipython3",
   "version": "3.7.4"
  }
 },
 "nbformat": 4,
 "nbformat_minor": 2
}
