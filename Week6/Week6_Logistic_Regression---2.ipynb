{
 "cells": [
  {
   "cell_type": "code",
   "execution_count": 1,
   "metadata": {},
   "outputs": [],
   "source": [
    "import pandas as pd\n",
    "import numpy as np\n",
    "import matplotlib.pyplot as plt\n",
    "%matplotlib inline\n",
    "import seaborn as sea\n",
    "\n",
    "import warnings\n",
    "warnings.filterwarnings('ignore')"
   ]
  },
  {
   "cell_type": "code",
   "execution_count": 2,
   "metadata": {},
   "outputs": [],
   "source": [
    "data = pd.read_csv('/Users/ankusmanish/Desktop/Training/Datasets/Week 6 data/classification_2.csv')"
   ]
  },
  {
   "cell_type": "code",
   "execution_count": 3,
   "metadata": {},
   "outputs": [
    {
     "name": "stdout",
     "output_type": "stream",
     "text": [
      "<class 'pandas.core.frame.DataFrame'>\n",
      "RangeIndex: 32560 entries, 0 to 32559\n",
      "Data columns (total 15 columns):\n",
      "39                32560 non-null int64\n",
      " State-gov        32560 non-null object\n",
      " 77516            32560 non-null int64\n",
      " Bachelors        32560 non-null object\n",
      " 13               32560 non-null int64\n",
      " Never-married    32560 non-null object\n",
      " Adm-clerical     32560 non-null object\n",
      " Not-in-family    32560 non-null object\n",
      " White            32560 non-null object\n",
      " Male             32560 non-null object\n",
      " 2174             32560 non-null int64\n",
      " 0                32560 non-null int64\n",
      " 40               32560 non-null int64\n",
      " United-States    32560 non-null object\n",
      " <=50K            32560 non-null object\n",
      "dtypes: int64(6), object(9)\n",
      "memory usage: 3.7+ MB\n"
     ]
    }
   ],
   "source": [
    "data.info()"
   ]
  },
  {
   "cell_type": "code",
   "execution_count": 4,
   "metadata": {},
   "outputs": [
    {
     "data": {
      "text/plain": [
       "39                0\n",
       " State-gov        0\n",
       " 77516            0\n",
       " Bachelors        0\n",
       " 13               0\n",
       " Never-married    0\n",
       " Adm-clerical     0\n",
       " Not-in-family    0\n",
       " White            0\n",
       " Male             0\n",
       " 2174             0\n",
       " 0                0\n",
       " 40               0\n",
       " United-States    0\n",
       " <=50K            0\n",
       "dtype: int64"
      ]
     },
     "execution_count": 4,
     "metadata": {},
     "output_type": "execute_result"
    }
   ],
   "source": [
    "data.isnull().sum()"
   ]
  },
  {
   "cell_type": "code",
   "execution_count": 5,
   "metadata": {},
   "outputs": [
    {
     "data": {
      "text/html": [
       "<div>\n",
       "<style scoped>\n",
       "    .dataframe tbody tr th:only-of-type {\n",
       "        vertical-align: middle;\n",
       "    }\n",
       "\n",
       "    .dataframe tbody tr th {\n",
       "        vertical-align: top;\n",
       "    }\n",
       "\n",
       "    .dataframe thead th {\n",
       "        text-align: right;\n",
       "    }\n",
       "</style>\n",
       "<table border=\"1\" class=\"dataframe\">\n",
       "  <thead>\n",
       "    <tr style=\"text-align: right;\">\n",
       "      <th></th>\n",
       "      <th>39</th>\n",
       "      <th>State-gov</th>\n",
       "      <th>77516</th>\n",
       "      <th>Bachelors</th>\n",
       "      <th>13</th>\n",
       "      <th>Never-married</th>\n",
       "      <th>Adm-clerical</th>\n",
       "      <th>Not-in-family</th>\n",
       "      <th>White</th>\n",
       "      <th>Male</th>\n",
       "      <th>2174</th>\n",
       "      <th>0</th>\n",
       "      <th>40</th>\n",
       "      <th>United-States</th>\n",
       "      <th>&lt;=50K</th>\n",
       "    </tr>\n",
       "  </thead>\n",
       "  <tbody>\n",
       "    <tr>\n",
       "      <th>0</th>\n",
       "      <td>50</td>\n",
       "      <td>Self-emp-not-inc</td>\n",
       "      <td>83311</td>\n",
       "      <td>Bachelors</td>\n",
       "      <td>13</td>\n",
       "      <td>Married-civ-spouse</td>\n",
       "      <td>Exec-managerial</td>\n",
       "      <td>Husband</td>\n",
       "      <td>White</td>\n",
       "      <td>Male</td>\n",
       "      <td>0</td>\n",
       "      <td>0</td>\n",
       "      <td>13</td>\n",
       "      <td>United-States</td>\n",
       "      <td>&lt;=50K</td>\n",
       "    </tr>\n",
       "    <tr>\n",
       "      <th>1</th>\n",
       "      <td>38</td>\n",
       "      <td>Private</td>\n",
       "      <td>215646</td>\n",
       "      <td>HS-grad</td>\n",
       "      <td>9</td>\n",
       "      <td>Divorced</td>\n",
       "      <td>Handlers-cleaners</td>\n",
       "      <td>Not-in-family</td>\n",
       "      <td>White</td>\n",
       "      <td>Male</td>\n",
       "      <td>0</td>\n",
       "      <td>0</td>\n",
       "      <td>40</td>\n",
       "      <td>United-States</td>\n",
       "      <td>&lt;=50K</td>\n",
       "    </tr>\n",
       "    <tr>\n",
       "      <th>2</th>\n",
       "      <td>53</td>\n",
       "      <td>Private</td>\n",
       "      <td>234721</td>\n",
       "      <td>11th</td>\n",
       "      <td>7</td>\n",
       "      <td>Married-civ-spouse</td>\n",
       "      <td>Handlers-cleaners</td>\n",
       "      <td>Husband</td>\n",
       "      <td>Black</td>\n",
       "      <td>Male</td>\n",
       "      <td>0</td>\n",
       "      <td>0</td>\n",
       "      <td>40</td>\n",
       "      <td>United-States</td>\n",
       "      <td>&lt;=50K</td>\n",
       "    </tr>\n",
       "    <tr>\n",
       "      <th>3</th>\n",
       "      <td>28</td>\n",
       "      <td>Private</td>\n",
       "      <td>338409</td>\n",
       "      <td>Bachelors</td>\n",
       "      <td>13</td>\n",
       "      <td>Married-civ-spouse</td>\n",
       "      <td>Prof-specialty</td>\n",
       "      <td>Wife</td>\n",
       "      <td>Black</td>\n",
       "      <td>Female</td>\n",
       "      <td>0</td>\n",
       "      <td>0</td>\n",
       "      <td>40</td>\n",
       "      <td>Cuba</td>\n",
       "      <td>&lt;=50K</td>\n",
       "    </tr>\n",
       "    <tr>\n",
       "      <th>4</th>\n",
       "      <td>37</td>\n",
       "      <td>Private</td>\n",
       "      <td>284582</td>\n",
       "      <td>Masters</td>\n",
       "      <td>14</td>\n",
       "      <td>Married-civ-spouse</td>\n",
       "      <td>Exec-managerial</td>\n",
       "      <td>Wife</td>\n",
       "      <td>White</td>\n",
       "      <td>Female</td>\n",
       "      <td>0</td>\n",
       "      <td>0</td>\n",
       "      <td>40</td>\n",
       "      <td>United-States</td>\n",
       "      <td>&lt;=50K</td>\n",
       "    </tr>\n",
       "  </tbody>\n",
       "</table>\n",
       "</div>"
      ],
      "text/plain": [
       "   39          State-gov   77516   Bachelors   13        Never-married  \\\n",
       "0  50   Self-emp-not-inc   83311   Bachelors   13   Married-civ-spouse   \n",
       "1  38            Private  215646     HS-grad    9             Divorced   \n",
       "2  53            Private  234721        11th    7   Married-civ-spouse   \n",
       "3  28            Private  338409   Bachelors   13   Married-civ-spouse   \n",
       "4  37            Private  284582     Masters   14   Married-civ-spouse   \n",
       "\n",
       "         Adm-clerical   Not-in-family   White     Male   2174   0   40  \\\n",
       "0     Exec-managerial         Husband   White     Male      0   0   13   \n",
       "1   Handlers-cleaners   Not-in-family   White     Male      0   0   40   \n",
       "2   Handlers-cleaners         Husband   Black     Male      0   0   40   \n",
       "3      Prof-specialty            Wife   Black   Female      0   0   40   \n",
       "4     Exec-managerial            Wife   White   Female      0   0   40   \n",
       "\n",
       "    United-States   <=50K  \n",
       "0   United-States   <=50K  \n",
       "1   United-States   <=50K  \n",
       "2   United-States   <=50K  \n",
       "3            Cuba   <=50K  \n",
       "4   United-States   <=50K  "
      ]
     },
     "execution_count": 5,
     "metadata": {},
     "output_type": "execute_result"
    }
   ],
   "source": [
    "data.head()"
   ]
  },
  {
   "cell_type": "code",
   "execution_count": 6,
   "metadata": {},
   "outputs": [],
   "source": [
    "lis = []\n",
    "cols = data.columns\n",
    "for i in cols:\n",
    "    if data[i].dtype == 'O':\n",
    "        lis.append(i)"
   ]
  },
  {
   "cell_type": "code",
   "execution_count": 7,
   "metadata": {},
   "outputs": [
    {
     "name": "stdout",
     "output_type": "stream",
     "text": [
      "[' State-gov', ' Bachelors', ' Never-married', ' Adm-clerical', ' Not-in-family', ' White', ' Male', ' United-States', ' <=50K']\n"
     ]
    }
   ],
   "source": [
    "#The list of columns that has categorical values\n",
    "print(lis)"
   ]
  },
  {
   "cell_type": "code",
   "execution_count": 8,
   "metadata": {},
   "outputs": [
    {
     "name": "stdout",
     "output_type": "stream",
     "text": [
      " STATE-GOV\n",
      " Private             22696\n",
      " Self-emp-not-inc     2541\n",
      " Local-gov            2093\n",
      " ?                    1836\n",
      " State-gov            1297\n",
      " Self-emp-inc         1116\n",
      " Federal-gov           960\n",
      " Without-pay            14\n",
      " Never-worked            7\n",
      "Name:  State-gov, dtype: int64\n",
      "----------------------------------------------------------------------------------------------------\n",
      "----------------------------------------------------------------------------------------------------\n",
      " BACHELORS\n",
      " HS-grad         10501\n",
      " Some-college     7291\n",
      " Bachelors        5354\n",
      " Masters          1723\n",
      " Assoc-voc        1382\n",
      " 11th             1175\n",
      " Assoc-acdm       1067\n",
      " 10th              933\n",
      " 7th-8th           646\n",
      " Prof-school       576\n",
      " 9th               514\n",
      " 12th              433\n",
      " Doctorate         413\n",
      " 5th-6th           333\n",
      " 1st-4th           168\n",
      " Preschool          51\n",
      "Name:  Bachelors, dtype: int64\n",
      "----------------------------------------------------------------------------------------------------\n",
      "----------------------------------------------------------------------------------------------------\n",
      " NEVER-MARRIED\n",
      " Married-civ-spouse       14976\n",
      " Never-married            10682\n",
      " Divorced                  4443\n",
      " Separated                 1025\n",
      " Widowed                    993\n",
      " Married-spouse-absent      418\n",
      " Married-AF-spouse           23\n",
      "Name:  Never-married, dtype: int64\n",
      "----------------------------------------------------------------------------------------------------\n",
      "----------------------------------------------------------------------------------------------------\n",
      " ADM-CLERICAL\n",
      " Prof-specialty       4140\n",
      " Craft-repair         4099\n",
      " Exec-managerial      4066\n",
      " Adm-clerical         3769\n",
      " Sales                3650\n",
      " Other-service        3295\n",
      " Machine-op-inspct    2002\n",
      " ?                    1843\n",
      " Transport-moving     1597\n",
      " Handlers-cleaners    1370\n",
      " Farming-fishing       994\n",
      " Tech-support          928\n",
      " Protective-serv       649\n",
      " Priv-house-serv       149\n",
      " Armed-Forces            9\n",
      "Name:  Adm-clerical, dtype: int64\n",
      "----------------------------------------------------------------------------------------------------\n",
      "----------------------------------------------------------------------------------------------------\n",
      " NOT-IN-FAMILY\n",
      " Husband           13193\n",
      " Not-in-family      8304\n",
      " Own-child          5068\n",
      " Unmarried          3446\n",
      " Wife               1568\n",
      " Other-relative      981\n",
      "Name:  Not-in-family, dtype: int64\n",
      "----------------------------------------------------------------------------------------------------\n",
      "----------------------------------------------------------------------------------------------------\n",
      " WHITE\n",
      " White                 27815\n",
      " Black                  3124\n",
      " Asian-Pac-Islander     1039\n",
      " Amer-Indian-Eskimo      311\n",
      " Other                   271\n",
      "Name:  White, dtype: int64\n",
      "----------------------------------------------------------------------------------------------------\n",
      "----------------------------------------------------------------------------------------------------\n",
      " MALE\n",
      " Male      21789\n",
      " Female    10771\n",
      "Name:  Male, dtype: int64\n",
      "----------------------------------------------------------------------------------------------------\n",
      "----------------------------------------------------------------------------------------------------\n",
      " UNITED-STATES\n",
      " United-States                 29169\n",
      " Mexico                          643\n",
      " ?                               583\n",
      " Philippines                     198\n",
      " Germany                         137\n",
      " Canada                          121\n",
      " Puerto-Rico                     114\n",
      " El-Salvador                     106\n",
      " India                           100\n",
      " Cuba                             95\n",
      " England                          90\n",
      " Jamaica                          81\n",
      " South                            80\n",
      " China                            75\n",
      " Italy                            73\n",
      " Dominican-Republic               70\n",
      " Vietnam                          67\n",
      " Guatemala                        64\n",
      " Japan                            62\n",
      " Poland                           60\n",
      " Columbia                         59\n",
      " Taiwan                           51\n",
      " Haiti                            44\n",
      " Iran                             43\n",
      " Portugal                         37\n",
      " Nicaragua                        34\n",
      " Peru                             31\n",
      " Greece                           29\n",
      " France                           29\n",
      " Ecuador                          28\n",
      " Ireland                          24\n",
      " Hong                             20\n",
      " Cambodia                         19\n",
      " Trinadad&Tobago                  19\n",
      " Laos                             18\n",
      " Thailand                         18\n",
      " Yugoslavia                       16\n",
      " Outlying-US(Guam-USVI-etc)       14\n",
      " Hungary                          13\n",
      " Honduras                         13\n",
      " Scotland                         12\n",
      " Holand-Netherlands                1\n",
      "Name:  United-States, dtype: int64\n",
      "----------------------------------------------------------------------------------------------------\n",
      "----------------------------------------------------------------------------------------------------\n",
      " <=50K\n",
      " <=50K    24719\n",
      " >50K      7841\n",
      "Name:  <=50K, dtype: int64\n",
      "----------------------------------------------------------------------------------------------------\n",
      "----------------------------------------------------------------------------------------------------\n"
     ]
    }
   ],
   "source": [
    "for i in lis:\n",
    "    print(i.upper())\n",
    "    print(data[i].value_counts())\n",
    "    print('-'*100)\n",
    "    print('-'*100)"
   ]
  },
  {
   "cell_type": "code",
   "execution_count": 11,
   "metadata": {},
   "outputs": [
    {
     "data": {
      "text/plain": [
       "39                   73\n",
       " State-gov            9\n",
       " 77516            21647\n",
       " Bachelors           16\n",
       " 13                  16\n",
       " Never-married        7\n",
       " Adm-clerical        15\n",
       " Not-in-family        6\n",
       " White                5\n",
       " Male                 2\n",
       " 2174               119\n",
       " 0                   92\n",
       " 40                  94\n",
       " United-States       42\n",
       " <=50K                2\n",
       "dtype: int64"
      ]
     },
     "execution_count": 11,
     "metadata": {},
     "output_type": "execute_result"
    }
   ],
   "source": [
    "data.nunique()"
   ]
  },
  {
   "cell_type": "code",
   "execution_count": 27,
   "metadata": {},
   "outputs": [],
   "source": [
    "data[' <=50K'].replace(' <=50K', 0, inplace = True)\n",
    "data[' <=50K'].replace(' >50K', 1, inplace = True)"
   ]
  },
  {
   "cell_type": "code",
   "execution_count": 29,
   "metadata": {},
   "outputs": [],
   "source": [
    "outcome_variable = data[' <=50K']"
   ]
  },
  {
   "cell_type": "code",
   "execution_count": 30,
   "metadata": {},
   "outputs": [
    {
     "data": {
      "text/plain": [
       "Index(['39', ' State-gov', ' 77516', ' Bachelors', ' 13', ' Never-married',\n",
       "       ' Adm-clerical', ' Not-in-family', ' White', ' Male', ' 2174', ' 0',\n",
       "       ' 40', ' United-States', ' <=50K'],\n",
       "      dtype='object')"
      ]
     },
     "execution_count": 30,
     "metadata": {},
     "output_type": "execute_result"
    }
   ],
   "source": [
    "data.columns"
   ]
  },
  {
   "cell_type": "code",
   "execution_count": 33,
   "metadata": {},
   "outputs": [],
   "source": [
    "data.drop(['39',' 77516',' Bachelors',' 13',' Never-married',' Not-in-family',' White',' 2174',' 0',' 40',' United-States',' <=50K'], axis = 1, inplace = True)"
   ]
  },
  {
   "cell_type": "code",
   "execution_count": 38,
   "metadata": {},
   "outputs": [],
   "source": [
    "data = pd.get_dummies(data[[' State-gov',' Adm-clerical',' Male']])"
   ]
  },
  {
   "cell_type": "code",
   "execution_count": 46,
   "metadata": {},
   "outputs": [],
   "source": [
    "mod_data = pd.concat([data, outcome_variable], axis = 1)"
   ]
  },
  {
   "cell_type": "code",
   "execution_count": 48,
   "metadata": {},
   "outputs": [
    {
     "data": {
      "text/plain": [
       "(32560, 27)"
      ]
     },
     "execution_count": 48,
     "metadata": {},
     "output_type": "execute_result"
    }
   ],
   "source": [
    "mod_data.shape"
   ]
  },
  {
   "cell_type": "code",
   "execution_count": 53,
   "metadata": {},
   "outputs": [
    {
     "data": {
      "text/html": [
       "<div>\n",
       "<style scoped>\n",
       "    .dataframe tbody tr th:only-of-type {\n",
       "        vertical-align: middle;\n",
       "    }\n",
       "\n",
       "    .dataframe tbody tr th {\n",
       "        vertical-align: top;\n",
       "    }\n",
       "\n",
       "    .dataframe thead th {\n",
       "        text-align: right;\n",
       "    }\n",
       "</style>\n",
       "<table border=\"1\" class=\"dataframe\">\n",
       "  <thead>\n",
       "    <tr style=\"text-align: right;\">\n",
       "      <th></th>\n",
       "      <th>State-gov_ ?</th>\n",
       "      <th>State-gov_ Federal-gov</th>\n",
       "      <th>State-gov_ Local-gov</th>\n",
       "      <th>State-gov_ Never-worked</th>\n",
       "      <th>State-gov_ Private</th>\n",
       "      <th>State-gov_ Self-emp-inc</th>\n",
       "      <th>State-gov_ Self-emp-not-inc</th>\n",
       "      <th>State-gov_ State-gov</th>\n",
       "      <th>State-gov_ Without-pay</th>\n",
       "      <th>Adm-clerical_ ?</th>\n",
       "      <th>...</th>\n",
       "      <th>Adm-clerical_ Other-service</th>\n",
       "      <th>Adm-clerical_ Priv-house-serv</th>\n",
       "      <th>Adm-clerical_ Prof-specialty</th>\n",
       "      <th>Adm-clerical_ Protective-serv</th>\n",
       "      <th>Adm-clerical_ Sales</th>\n",
       "      <th>Adm-clerical_ Tech-support</th>\n",
       "      <th>Adm-clerical_ Transport-moving</th>\n",
       "      <th>Male_ Female</th>\n",
       "      <th>Male_ Male</th>\n",
       "      <th>&lt;=50K</th>\n",
       "    </tr>\n",
       "  </thead>\n",
       "  <tbody>\n",
       "    <tr>\n",
       "      <th>0</th>\n",
       "      <td>0</td>\n",
       "      <td>0</td>\n",
       "      <td>0</td>\n",
       "      <td>0</td>\n",
       "      <td>0</td>\n",
       "      <td>0</td>\n",
       "      <td>1</td>\n",
       "      <td>0</td>\n",
       "      <td>0</td>\n",
       "      <td>0</td>\n",
       "      <td>...</td>\n",
       "      <td>0</td>\n",
       "      <td>0</td>\n",
       "      <td>0</td>\n",
       "      <td>0</td>\n",
       "      <td>0</td>\n",
       "      <td>0</td>\n",
       "      <td>0</td>\n",
       "      <td>0</td>\n",
       "      <td>1</td>\n",
       "      <td>0</td>\n",
       "    </tr>\n",
       "    <tr>\n",
       "      <th>1</th>\n",
       "      <td>0</td>\n",
       "      <td>0</td>\n",
       "      <td>0</td>\n",
       "      <td>0</td>\n",
       "      <td>1</td>\n",
       "      <td>0</td>\n",
       "      <td>0</td>\n",
       "      <td>0</td>\n",
       "      <td>0</td>\n",
       "      <td>0</td>\n",
       "      <td>...</td>\n",
       "      <td>0</td>\n",
       "      <td>0</td>\n",
       "      <td>0</td>\n",
       "      <td>0</td>\n",
       "      <td>0</td>\n",
       "      <td>0</td>\n",
       "      <td>0</td>\n",
       "      <td>0</td>\n",
       "      <td>1</td>\n",
       "      <td>0</td>\n",
       "    </tr>\n",
       "    <tr>\n",
       "      <th>2</th>\n",
       "      <td>0</td>\n",
       "      <td>0</td>\n",
       "      <td>0</td>\n",
       "      <td>0</td>\n",
       "      <td>1</td>\n",
       "      <td>0</td>\n",
       "      <td>0</td>\n",
       "      <td>0</td>\n",
       "      <td>0</td>\n",
       "      <td>0</td>\n",
       "      <td>...</td>\n",
       "      <td>0</td>\n",
       "      <td>0</td>\n",
       "      <td>0</td>\n",
       "      <td>0</td>\n",
       "      <td>0</td>\n",
       "      <td>0</td>\n",
       "      <td>0</td>\n",
       "      <td>0</td>\n",
       "      <td>1</td>\n",
       "      <td>0</td>\n",
       "    </tr>\n",
       "    <tr>\n",
       "      <th>3</th>\n",
       "      <td>0</td>\n",
       "      <td>0</td>\n",
       "      <td>0</td>\n",
       "      <td>0</td>\n",
       "      <td>1</td>\n",
       "      <td>0</td>\n",
       "      <td>0</td>\n",
       "      <td>0</td>\n",
       "      <td>0</td>\n",
       "      <td>0</td>\n",
       "      <td>...</td>\n",
       "      <td>0</td>\n",
       "      <td>0</td>\n",
       "      <td>1</td>\n",
       "      <td>0</td>\n",
       "      <td>0</td>\n",
       "      <td>0</td>\n",
       "      <td>0</td>\n",
       "      <td>1</td>\n",
       "      <td>0</td>\n",
       "      <td>0</td>\n",
       "    </tr>\n",
       "    <tr>\n",
       "      <th>4</th>\n",
       "      <td>0</td>\n",
       "      <td>0</td>\n",
       "      <td>0</td>\n",
       "      <td>0</td>\n",
       "      <td>1</td>\n",
       "      <td>0</td>\n",
       "      <td>0</td>\n",
       "      <td>0</td>\n",
       "      <td>0</td>\n",
       "      <td>0</td>\n",
       "      <td>...</td>\n",
       "      <td>0</td>\n",
       "      <td>0</td>\n",
       "      <td>0</td>\n",
       "      <td>0</td>\n",
       "      <td>0</td>\n",
       "      <td>0</td>\n",
       "      <td>0</td>\n",
       "      <td>1</td>\n",
       "      <td>0</td>\n",
       "      <td>0</td>\n",
       "    </tr>\n",
       "  </tbody>\n",
       "</table>\n",
       "<p>5 rows × 27 columns</p>\n",
       "</div>"
      ],
      "text/plain": [
       "    State-gov_ ?   State-gov_ Federal-gov   State-gov_ Local-gov  \\\n",
       "0              0                        0                      0   \n",
       "1              0                        0                      0   \n",
       "2              0                        0                      0   \n",
       "3              0                        0                      0   \n",
       "4              0                        0                      0   \n",
       "\n",
       "    State-gov_ Never-worked   State-gov_ Private   State-gov_ Self-emp-inc  \\\n",
       "0                         0                    0                         0   \n",
       "1                         0                    1                         0   \n",
       "2                         0                    1                         0   \n",
       "3                         0                    1                         0   \n",
       "4                         0                    1                         0   \n",
       "\n",
       "    State-gov_ Self-emp-not-inc   State-gov_ State-gov  \\\n",
       "0                             1                      0   \n",
       "1                             0                      0   \n",
       "2                             0                      0   \n",
       "3                             0                      0   \n",
       "4                             0                      0   \n",
       "\n",
       "    State-gov_ Without-pay   Adm-clerical_ ?  ...  \\\n",
       "0                        0                 0  ...   \n",
       "1                        0                 0  ...   \n",
       "2                        0                 0  ...   \n",
       "3                        0                 0  ...   \n",
       "4                        0                 0  ...   \n",
       "\n",
       "    Adm-clerical_ Other-service   Adm-clerical_ Priv-house-serv  \\\n",
       "0                             0                               0   \n",
       "1                             0                               0   \n",
       "2                             0                               0   \n",
       "3                             0                               0   \n",
       "4                             0                               0   \n",
       "\n",
       "    Adm-clerical_ Prof-specialty   Adm-clerical_ Protective-serv  \\\n",
       "0                              0                               0   \n",
       "1                              0                               0   \n",
       "2                              0                               0   \n",
       "3                              1                               0   \n",
       "4                              0                               0   \n",
       "\n",
       "    Adm-clerical_ Sales   Adm-clerical_ Tech-support  \\\n",
       "0                     0                            0   \n",
       "1                     0                            0   \n",
       "2                     0                            0   \n",
       "3                     0                            0   \n",
       "4                     0                            0   \n",
       "\n",
       "    Adm-clerical_ Transport-moving   Male_ Female   Male_ Male   <=50K  \n",
       "0                                0              0            1       0  \n",
       "1                                0              0            1       0  \n",
       "2                                0              0            1       0  \n",
       "3                                0              1            0       0  \n",
       "4                                0              1            0       0  \n",
       "\n",
       "[5 rows x 27 columns]"
      ]
     },
     "execution_count": 53,
     "metadata": {},
     "output_type": "execute_result"
    }
   ],
   "source": [
    "mod_data.head()"
   ]
  },
  {
   "cell_type": "code",
   "execution_count": 54,
   "metadata": {},
   "outputs": [],
   "source": [
    "data = mod_data"
   ]
  },
  {
   "cell_type": "code",
   "execution_count": 55,
   "metadata": {},
   "outputs": [],
   "source": [
    "X_train, y_train, X_test, y_test = (data.iloc[:25000,:26], data.iloc[:25000,26:27], data.iloc[25000:,:26], data.iloc[25000:,26:27])\n",
    "\n",
    "\n"
   ]
  },
  {
   "cell_type": "code",
   "execution_count": 57,
   "metadata": {},
   "outputs": [
    {
     "name": "stdout",
     "output_type": "stream",
     "text": [
      "(25000, 26)\n",
      "(25000, 1)\n",
      "(7560, 26)\n",
      "(7560, 1)\n"
     ]
    }
   ],
   "source": [
    "print(X_train.shape)\n",
    "print(y_train.shape)\n",
    "print(X_test.shape)\n",
    "print(y_test.shape)"
   ]
  },
  {
   "cell_type": "code",
   "execution_count": 58,
   "metadata": {},
   "outputs": [
    {
     "data": {
      "text/plain": [
       "Index([' State-gov_ ?', ' State-gov_ Federal-gov', ' State-gov_ Local-gov',\n",
       "       ' State-gov_ Never-worked', ' State-gov_ Private',\n",
       "       ' State-gov_ Self-emp-inc', ' State-gov_ Self-emp-not-inc',\n",
       "       ' State-gov_ State-gov', ' State-gov_ Without-pay', ' Adm-clerical_ ?',\n",
       "       ' Adm-clerical_ Adm-clerical', ' Adm-clerical_ Armed-Forces',\n",
       "       ' Adm-clerical_ Craft-repair', ' Adm-clerical_ Exec-managerial',\n",
       "       ' Adm-clerical_ Farming-fishing', ' Adm-clerical_ Handlers-cleaners',\n",
       "       ' Adm-clerical_ Machine-op-inspct', ' Adm-clerical_ Other-service',\n",
       "       ' Adm-clerical_ Priv-house-serv', ' Adm-clerical_ Prof-specialty',\n",
       "       ' Adm-clerical_ Protective-serv', ' Adm-clerical_ Sales',\n",
       "       ' Adm-clerical_ Tech-support', ' Adm-clerical_ Transport-moving',\n",
       "       ' Male_ Female', ' Male_ Male'],\n",
       "      dtype='object')"
      ]
     },
     "execution_count": 58,
     "metadata": {},
     "output_type": "execute_result"
    }
   ],
   "source": [
    "X_train.columns"
   ]
  },
  {
   "cell_type": "code",
   "execution_count": 66,
   "metadata": {},
   "outputs": [
    {
     "data": {
      "text/plain": [
       "Index([' <=50K'], dtype='object')"
      ]
     },
     "execution_count": 66,
     "metadata": {},
     "output_type": "execute_result"
    }
   ],
   "source": [
    "y_train.columns"
   ]
  },
  {
   "cell_type": "code",
   "execution_count": 120,
   "metadata": {},
   "outputs": [],
   "source": [
    "col1 = X_train[' State-gov_ ?'].values\n",
    "col2 = X_train[' State-gov_ Federal-gov'].values\n",
    "col3 = X_train[' State-gov_ Local-gov'].values\n",
    "col4 = X_train[' State-gov_ Never-worked'].values\n",
    "col5 = X_train[' State-gov_ Private'].values\n",
    "col6 = X_train[' State-gov_ Self-emp-inc'].values\n",
    "col7 = X_train[' State-gov_ Self-emp-not-inc'].values\n",
    "col8 = X_train[' State-gov_ State-gov'].values\n",
    "col9 = X_train[' State-gov_ Without-pay'].values\n",
    "col10 = X_train[' Adm-clerical_ ?'].values\n",
    "col11 = X_train[' Adm-clerical_ Adm-clerical'].values\n",
    "col12 = X_train[' Adm-clerical_ Armed-Forces'].values\n",
    "col13 = X_train[' Adm-clerical_ Craft-repair'].values\n",
    "col14 = X_train[' Adm-clerical_ Exec-managerial'].values\n",
    "col15 = X_train[' Adm-clerical_ Farming-fishing'].values\n",
    "col16 = X_train[' Adm-clerical_ Handlers-cleaners'].values\n",
    "col17 = X_train[' Adm-clerical_ Machine-op-inspct'].values\n",
    "col18 = X_train[' Adm-clerical_ Other-service'].values\n",
    "col19 = X_train[' Adm-clerical_ Priv-house-serv'].values\n",
    "col20 = X_train[' Adm-clerical_ Prof-specialty'].values\n",
    "col21 = X_train[' Adm-clerical_ Protective-serv'].values\n",
    "col22 = X_train[' Adm-clerical_ Sales'].values\n",
    "col23 = X_train[' Adm-clerical_ Tech-support'].values\n",
    "col24 = X_train[' Adm-clerical_ Transport-moving'].values\n",
    "col25 = X_train[' Male_ Female'].values\n",
    "col26 = X_train[' Male_ Male'].values"
   ]
  },
  {
   "cell_type": "code",
   "execution_count": 84,
   "metadata": {},
   "outputs": [],
   "source": [
    "X = np.array([col1, col2, col3, col4, col5, col6, col7, col8, col9, col10, col11,\n",
    "              col12, col13, col14, col15, col16, col17, col18, col19, col20, col21,\n",
    "              col22, col23, col24, col25, col26]).T\n",
    "Y = np.array(y_train[' <=50K'].values)"
   ]
  },
  {
   "cell_type": "code",
   "execution_count": 85,
   "metadata": {},
   "outputs": [
    {
     "data": {
      "text/plain": [
       "(25000, 26)"
      ]
     },
     "execution_count": 85,
     "metadata": {},
     "output_type": "execute_result"
    }
   ],
   "source": [
    "X.shape"
   ]
  },
  {
   "cell_type": "code",
   "execution_count": 86,
   "metadata": {},
   "outputs": [
    {
     "data": {
      "text/plain": [
       "(25000,)"
      ]
     },
     "execution_count": 86,
     "metadata": {},
     "output_type": "execute_result"
    }
   ],
   "source": [
    "Y.shape"
   ]
  },
  {
   "cell_type": "code",
   "execution_count": 101,
   "metadata": {},
   "outputs": [],
   "source": [
    "alpha = 0.001   \n",
    "m = len(X) \n",
    "np.random.seed(10)\n",
    "theta = np.random.rand(26)  #initializing theta with some random values"
   ]
  },
  {
   "cell_type": "code",
   "execution_count": 102,
   "metadata": {},
   "outputs": [
    {
     "data": {
      "text/plain": [
       "array([0.77132064, 0.02075195, 0.63364823, 0.74880388, 0.49850701,\n",
       "       0.22479665, 0.19806286, 0.76053071, 0.16911084, 0.08833981,\n",
       "       0.68535982, 0.95339335, 0.00394827, 0.51219226, 0.81262096,\n",
       "       0.61252607, 0.72175532, 0.29187607, 0.91777412, 0.71457578,\n",
       "       0.54254437, 0.14217005, 0.37334076, 0.67413362, 0.44183317,\n",
       "       0.43401399])"
      ]
     },
     "execution_count": 102,
     "metadata": {},
     "output_type": "execute_result"
    }
   ],
   "source": [
    "theta"
   ]
  },
  {
   "cell_type": "code",
   "execution_count": 111,
   "metadata": {},
   "outputs": [],
   "source": [
    "def gradient_descent(x, y, m, theta, alpha):\n",
    "    cost_list = []   #to record all cost values to this list\n",
    "    prediction_list = []\n",
    "    iterations = 3000\n",
    "    for i in range(iterations):\n",
    "        pred = np.dot(x, theta)   #predicted y values \n",
    "        prediction_list.append(pred)\n",
    "        error = pred - y\n",
    "        cost = 1/(2*m) * np.dot(error.T, error)   #  (1/2m)*sum[(error)^2]\n",
    "        cost_list.append(cost)\n",
    "        theta = theta - (alpha * (1/m) * np.dot(x.T, error))   # alpha * (1/m) * sum[error*x]\n",
    "\n",
    "    return prediction_list, cost_list, theta"
   ]
  },
  {
   "cell_type": "code",
   "execution_count": 112,
   "metadata": {},
   "outputs": [],
   "source": [
    "prediction_list, cost_list, theta = gradient_descent(X, Y, m, theta, alpha)"
   ]
  },
  {
   "cell_type": "code",
   "execution_count": 114,
   "metadata": {},
   "outputs": [
    {
     "data": {
      "text/plain": [
       "0.1149690461543459"
      ]
     },
     "execution_count": 114,
     "metadata": {},
     "output_type": "execute_result"
    }
   ],
   "source": [
    "cost_list[-1]"
   ]
  },
  {
   "cell_type": "code",
   "execution_count": 117,
   "metadata": {},
   "outputs": [
    {
     "data": {
      "text/plain": [
       "array([ 0.62472034,  0.00721492,  0.42927144,  0.74812807, -0.0502935 ,\n",
       "        0.22053366,  0.11419146,  0.60498341,  0.16787046, -0.0589363 ,\n",
       "        0.42778376,  0.95218175,  0.08523184,  0.46794307,  0.71045676,\n",
       "        0.51846145,  0.57513703,  0.18132035,  0.8976065 ,  0.53067575,\n",
       "        0.49193838,  0.18431675,  0.35577073,  0.56775029, -0.18657618,\n",
       "       -0.09648918])"
      ]
     },
     "execution_count": 117,
     "metadata": {},
     "output_type": "execute_result"
    }
   ],
   "source": [
    "theta"
   ]
  },
  {
   "cell_type": "code",
   "execution_count": 118,
   "metadata": {},
   "outputs": [
    {
     "data": {
      "text/plain": [
       "(26,)"
      ]
     },
     "execution_count": 118,
     "metadata": {},
     "output_type": "execute_result"
    }
   ],
   "source": [
    "theta.shape"
   ]
  },
  {
   "cell_type": "code",
   "execution_count": 119,
   "metadata": {},
   "outputs": [],
   "source": [
    "def sigmoid(x):\n",
    "    # Activation function used to map any real value between 0 and 1\n",
    "    return 1 / (1 + np.exp(-x))"
   ]
  },
  {
   "cell_type": "code",
   "execution_count": 121,
   "metadata": {},
   "outputs": [],
   "source": [
    "col1 = X_test[' State-gov_ ?'].values\n",
    "col2 = X_test[' State-gov_ Federal-gov'].values\n",
    "col3 = X_test[' State-gov_ Local-gov'].values\n",
    "col4 = X_test[' State-gov_ Never-worked'].values\n",
    "col5 = X_test[' State-gov_ Private'].values\n",
    "col6 = X_test[' State-gov_ Self-emp-inc'].values\n",
    "col7 = X_test[' State-gov_ Self-emp-not-inc'].values\n",
    "col8 = X_test[' State-gov_ State-gov'].values\n",
    "col9 = X_test[' State-gov_ Without-pay'].values\n",
    "col10 = X_test[' Adm-clerical_ ?'].values\n",
    "col11 = X_test[' Adm-clerical_ Adm-clerical'].values\n",
    "col12 = X_test[' Adm-clerical_ Armed-Forces'].values\n",
    "col13 = X_test[' Adm-clerical_ Craft-repair'].values\n",
    "col14 = X_test[' Adm-clerical_ Exec-managerial'].values\n",
    "col15 = X_test[' Adm-clerical_ Farming-fishing'].values\n",
    "col16 = X_test[' Adm-clerical_ Handlers-cleaners'].values\n",
    "col17 = X_test[' Adm-clerical_ Machine-op-inspct'].values\n",
    "col18 = X_test[' Adm-clerical_ Other-service'].values\n",
    "col19 = X_test[' Adm-clerical_ Priv-house-serv'].values\n",
    "col20 = X_test[' Adm-clerical_ Prof-specialty'].values\n",
    "col21 = X_test[' Adm-clerical_ Protective-serv'].values\n",
    "col22 = X_test[' Adm-clerical_ Sales'].values\n",
    "col23 = X_test[' Adm-clerical_ Tech-support'].values\n",
    "col24 = X_test[' Adm-clerical_ Transport-moving'].values\n",
    "col25 = X_test[' Male_ Female'].values\n",
    "col26 = X_test[' Male_ Male'].values"
   ]
  },
  {
   "cell_type": "code",
   "execution_count": 122,
   "metadata": {},
   "outputs": [],
   "source": [
    "x = np.array([col1, col2, col3, col4, col5, col6, col7, col8, col9, col10, col11,\n",
    "              col12, col13, col14, col15, col16, col17, col18, col19, col20, col21,\n",
    "              col22, col23, col24, col25, col26]).T\n",
    "y = np.array(y_test[' <=50K'].values)"
   ]
  },
  {
   "cell_type": "code",
   "execution_count": 124,
   "metadata": {},
   "outputs": [
    {
     "name": "stdout",
     "output_type": "stream",
     "text": [
      "(7560, 26)\n",
      "(7560,)\n",
      "(26,)\n"
     ]
    }
   ],
   "source": [
    "print(x.shape)\n",
    "print(y.shape)\n",
    "print(theta.shape)"
   ]
  },
  {
   "cell_type": "code",
   "execution_count": 149,
   "metadata": {},
   "outputs": [],
   "source": [
    "import math\n",
    "\n",
    "def predict(test):\n",
    "    t = np.reshape(theta, (26,1))\n",
    "    res = sigmoid(np.dot(test, t))\n",
    "    lis = []\n",
    "    for i in range(len(res)):\n",
    "        if math.floor(res[i]*10)/10 <= 0.5:\n",
    "            lis.append(0)\n",
    "        else:\n",
    "            lis.append(1)\n",
    "    return lis"
   ]
  },
  {
   "cell_type": "code",
   "execution_count": 150,
   "metadata": {},
   "outputs": [],
   "source": [
    "res = predict(x)"
   ]
  },
  {
   "cell_type": "code",
   "execution_count": 175,
   "metadata": {},
   "outputs": [
    {
     "data": {
      "text/plain": [
       "[0, 0, 0, 0, 0, 0, 1, 1, 1, 1]"
      ]
     },
     "execution_count": 175,
     "metadata": {},
     "output_type": "execute_result"
    }
   ],
   "source": [
    "res[:10]"
   ]
  },
  {
   "cell_type": "code",
   "execution_count": 146,
   "metadata": {},
   "outputs": [
    {
     "data": {
      "text/html": [
       "<div>\n",
       "<style scoped>\n",
       "    .dataframe tbody tr th:only-of-type {\n",
       "        vertical-align: middle;\n",
       "    }\n",
       "\n",
       "    .dataframe tbody tr th {\n",
       "        vertical-align: top;\n",
       "    }\n",
       "\n",
       "    .dataframe thead th {\n",
       "        text-align: right;\n",
       "    }\n",
       "</style>\n",
       "<table border=\"1\" class=\"dataframe\">\n",
       "  <thead>\n",
       "    <tr style=\"text-align: right;\">\n",
       "      <th></th>\n",
       "      <th>&lt;=50K</th>\n",
       "    </tr>\n",
       "  </thead>\n",
       "  <tbody>\n",
       "    <tr>\n",
       "      <th>25000</th>\n",
       "      <td>0</td>\n",
       "    </tr>\n",
       "    <tr>\n",
       "      <th>25001</th>\n",
       "      <td>0</td>\n",
       "    </tr>\n",
       "    <tr>\n",
       "      <th>25002</th>\n",
       "      <td>0</td>\n",
       "    </tr>\n",
       "    <tr>\n",
       "      <th>25003</th>\n",
       "      <td>0</td>\n",
       "    </tr>\n",
       "    <tr>\n",
       "      <th>25004</th>\n",
       "      <td>0</td>\n",
       "    </tr>\n",
       "    <tr>\n",
       "      <th>25005</th>\n",
       "      <td>1</td>\n",
       "    </tr>\n",
       "    <tr>\n",
       "      <th>25006</th>\n",
       "      <td>0</td>\n",
       "    </tr>\n",
       "    <tr>\n",
       "      <th>25007</th>\n",
       "      <td>0</td>\n",
       "    </tr>\n",
       "    <tr>\n",
       "      <th>25008</th>\n",
       "      <td>0</td>\n",
       "    </tr>\n",
       "    <tr>\n",
       "      <th>25009</th>\n",
       "      <td>0</td>\n",
       "    </tr>\n",
       "  </tbody>\n",
       "</table>\n",
       "</div>"
      ],
      "text/plain": [
       "        <=50K\n",
       "25000       0\n",
       "25001       0\n",
       "25002       0\n",
       "25003       0\n",
       "25004       0\n",
       "25005       1\n",
       "25006       0\n",
       "25007       0\n",
       "25008       0\n",
       "25009       0"
      ]
     },
     "execution_count": 146,
     "metadata": {},
     "output_type": "execute_result"
    }
   ],
   "source": [
    "y_test.head(10)"
   ]
  },
  {
   "cell_type": "code",
   "execution_count": 171,
   "metadata": {},
   "outputs": [],
   "source": [
    "def accuracy(y_pred, y_test):\n",
    "    true = 0\n",
    "    false = 0\n",
    "    for i in range(len(res)):\n",
    "        if y_pred[i] == y_test[i]:\n",
    "            true += 1\n",
    "        else:\n",
    "            false += 1\n",
    "\n",
    "        result = (true * 100) / len(res)\n",
    "    return result    "
   ]
  },
  {
   "cell_type": "code",
   "execution_count": 172,
   "metadata": {},
   "outputs": [],
   "source": [
    "Accuracy = accuracy(res, y)"
   ]
  },
  {
   "cell_type": "code",
   "execution_count": 174,
   "metadata": {},
   "outputs": [
    {
     "name": "stdout",
     "output_type": "stream",
     "text": [
      "61.37566137566137\n"
     ]
    }
   ],
   "source": [
    "print(Accuracy)"
   ]
  },
  {
   "cell_type": "code",
   "execution_count": 176,
   "metadata": {},
   "outputs": [],
   "source": [
    "from sklearn.metrics import accuracy_score"
   ]
  },
  {
   "cell_type": "code",
   "execution_count": 177,
   "metadata": {},
   "outputs": [
    {
     "data": {
      "text/plain": [
       "0.6137566137566137"
      ]
     },
     "execution_count": 177,
     "metadata": {},
     "output_type": "execute_result"
    }
   ],
   "source": [
    "accuracy_score(res, y)"
   ]
  },
  {
   "cell_type": "code",
   "execution_count": null,
   "metadata": {},
   "outputs": [],
   "source": []
  }
 ],
 "metadata": {
  "kernelspec": {
   "display_name": "Python 3",
   "language": "python",
   "name": "python3"
  },
  "language_info": {
   "codemirror_mode": {
    "name": "ipython",
    "version": 3
   },
   "file_extension": ".py",
   "mimetype": "text/x-python",
   "name": "python",
   "nbconvert_exporter": "python",
   "pygments_lexer": "ipython3",
   "version": "3.7.3"
  }
 },
 "nbformat": 4,
 "nbformat_minor": 2
}
