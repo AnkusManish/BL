{
 "cells": [
  {
   "cell_type": "code",
   "execution_count": null,
   "metadata": {
    "colab": {},
    "colab_type": "code",
    "id": "6kFVZXOYZR9E"
   },
   "outputs": [],
   "source": [
    "import numpy as np\n",
    "import matplotlib.pyplot as plt\n",
    "%matplotlib inline\n",
    "from keras.models import Sequential, load_model\n",
    "from keras.layers import Dense, Dropout, Flatten, Activation\n",
    "from keras.layers.convolutional import Conv2D, MaxPooling2D\n",
    "from keras.utils.np_utils import to_categorical\n",
    "import seaborn as sns\n",
    "from sklearn.metrics import accuracy_score\n",
    "from keras.optimizers import Adam\n",
    "\n",
    "\n",
    "import tensorflow as tf\n",
    "from keras.datasets import cifar10\n",
    "import warnings\n",
    "warnings.filterwarnings('ignore')"
   ]
  },
  {
   "cell_type": "code",
   "execution_count": 0,
   "metadata": {
    "colab": {},
    "colab_type": "code",
    "id": "RIksVqFGZSvL"
   },
   "outputs": [],
   "source": [
    "(x_train, y_train), (x_test, y_test) = cifar10.load_data()"
   ]
  },
  {
   "cell_type": "code",
   "execution_count": 0,
   "metadata": {
    "colab": {},
    "colab_type": "code",
    "id": "ikdPqxiBZUaa"
   },
   "outputs": [],
   "source": [
    "cifar_classes = ['airplane','automobile','bird','cat','deer','dog','frog','horse','ship','truck']\n",
    "y_train_cat = to_categorical(y_train)\n",
    "y_test_cat = to_categorical(y_test)\n",
    "num_classes=y_train[0].shape[0]"
   ]
  },
  {
   "cell_type": "code",
   "execution_count": null,
   "metadata": {
    "colab": {},
    "colab_type": "code",
    "id": "45blCY-GeGsr"
   },
   "outputs": [],
   "source": [
    "BATCH_SIZE = 50\n",
    "EPOCHS = 30\n",
    "IMG_SHAPE  = 32 "
   ]
  },
  {
   "cell_type": "code",
   "execution_count": 20,
   "metadata": {
    "colab": {
     "base_uri": "https://localhost:8080/",
     "height": 286
    },
    "colab_type": "code",
    "id": "7uUCvlcYeHSv",
    "outputId": "757484f1-a76d-44b7-c379-f5d236f75c4a"
   },
   "outputs": [
    {
     "data": {
      "text/plain": [
       "<matplotlib.image.AxesImage at 0x7fa29fd18198>"
      ]
     },
     "execution_count": 20,
     "metadata": {
      "tags": []
     },
     "output_type": "execute_result"
    },
    {
     "data": {
      "image/png": "[encoded data removed]",
      "text/plain": [
       "<Figure size 432x288 with 1 Axes>"
      ]
     },
     "metadata": {
      "tags": []
     },
     "output_type": "display_data"
    }
   ],
   "source": [
    "plt.imshow(x_train[6])"
   ]
  },
  {
   "cell_type": "code",
   "execution_count": 0,
   "metadata": {
    "colab": {},
    "colab_type": "code",
    "id": "nDTb2Ql2aOEM"
   },
   "outputs": [],
   "source": [
    "model = Sequential()\n",
    "model.add(Conv2D(32, (3, 3), padding='same',input_shape=(32,32,3)))\n",
    "model.add(Activation('relu'))\n",
    "model.add(Conv2D(32, (3, 3)))\n",
    "model.add(Activation('relu'))\n",
    "model.add(MaxPooling2D(pool_size=(2, 2)))\n",
    "model.add(Dropout(0.25))\n",
    "\n",
    "model.add(Conv2D(64, (3, 3), padding='same'))\n",
    "model.add(Activation('relu'))\n",
    "model.add(Conv2D(64, (3, 3)))\n",
    "model.add(Activation('relu'))\n",
    "model.add(MaxPooling2D(pool_size=(2, 2)))\n",
    "model.add(Dropout(0.25))\n",
    "\n",
    "model.add(Flatten())\n",
    "model.add(Dense(512))\n",
    "model.add(Activation('relu'))\n",
    "model.add(Dropout(0.5))\n",
    "model.add(Dense(num_classes))\n",
    "model.add(Activation('softmax'))\n",
    "\n",
    "opt = Adam(lr = 0.0001)\n",
    "\n",
    "model.compile(loss='categorical_crossentropy', optimizer=opt, metrics=['accuracy'])"
   ]
  },
  {
   "cell_type": "code",
   "execution_count": 24,
   "metadata": {
    "colab": {
     "base_uri": "https://localhost:8080/",
     "height": 34
    },
    "colab_type": "code",
    "id": "47ONLVmJMzIy",
    "outputId": "16e08a67-8fbc-4793-848a-96269ef9928e"
   },
   "outputs": [
    {
     "data": {
      "text/plain": [
       "50000"
      ]
     },
     "execution_count": 24,
     "metadata": {
      "tags": []
     },
     "output_type": "execute_result"
    }
   ],
   "source": [
    "x_train.shape[0]"
   ]
  },
  {
   "cell_type": "code",
   "execution_count": 25,
   "metadata": {
    "colab": {
     "base_uri": "https://localhost:8080/",
     "height": 697
    },
    "colab_type": "code",
    "id": "8rIGiDybaQWN",
    "outputId": "06b93ffe-1c48-4c50-fec5-c95bca9e5d0e"
   },
   "outputs": [
    {
     "name": "stdout",
     "output_type": "stream",
     "text": [
      "Epoch 1/20\n",
      "50000/50000 [==============================] - 16s 313us/step - loss: 4.4899 - acc: 0.2405\n",
      "Epoch 2/20\n",
      "50000/50000 [==============================] - 15s 300us/step - loss: 1.6232 - acc: 0.4039\n",
      "Epoch 3/20\n",
      "50000/50000 [==============================] - 15s 298us/step - loss: 1.4627 - acc: 0.4684\n",
      "Epoch 4/20\n",
      "50000/50000 [==============================] - 15s 299us/step - loss: 1.3498 - acc: 0.5142\n",
      "Epoch 5/20\n",
      "50000/50000 [==============================] - 15s 299us/step - loss: 1.2658 - acc: 0.5479\n",
      "Epoch 6/20\n",
      "50000/50000 [==============================] - 15s 297us/step - loss: 1.1938 - acc: 0.5750\n",
      "Epoch 7/20\n",
      "50000/50000 [==============================] - 15s 298us/step - loss: 1.1350 - acc: 0.6010\n",
      "Epoch 8/20\n",
      "50000/50000 [==============================] - 15s 298us/step - loss: 1.0761 - acc: 0.6205\n",
      "Epoch 9/20\n",
      "50000/50000 [==============================] - 15s 298us/step - loss: 1.0214 - acc: 0.6405\n",
      "Epoch 10/20\n",
      "50000/50000 [==============================] - 15s 298us/step - loss: 0.9774 - acc: 0.6544\n",
      "Epoch 11/20\n",
      "50000/50000 [==============================] - 15s 297us/step - loss: 0.9329 - acc: 0.6697\n",
      "Epoch 12/20\n",
      "50000/50000 [==============================] - 15s 296us/step - loss: 0.8963 - acc: 0.6854\n",
      "Epoch 13/20\n",
      "50000/50000 [==============================] - 16s 315us/step - loss: 0.8596 - acc: 0.6980\n",
      "Epoch 14/20\n",
      "50000/50000 [==============================] - 15s 307us/step - loss: 0.8251 - acc: 0.7117\n",
      "Epoch 15/20\n",
      "50000/50000 [==============================] - 15s 305us/step - loss: 0.7944 - acc: 0.7205\n",
      "Epoch 16/20\n",
      "50000/50000 [==============================] - 15s 306us/step - loss: 0.7703 - acc: 0.7303\n",
      "Epoch 17/20\n",
      "50000/50000 [==============================] - 15s 305us/step - loss: 0.7416 - acc: 0.7399\n",
      "Epoch 18/20\n",
      "50000/50000 [==============================] - 15s 310us/step - loss: 0.7169 - acc: 0.7477\n",
      "Epoch 19/20\n",
      "50000/50000 [==============================] - 15s 307us/step - loss: 0.6932 - acc: 0.7577\n",
      "Epoch 20/20\n",
      "50000/50000 [==============================] - 15s 305us/step - loss: 0.6776 - acc: 0.7600\n"
     ]
    }
   ],
   "source": [
    "history = model.fit(\n",
    "    x_train,\n",
    "    y_train_cat,\n",
    "    epochs=20,\n",
    "    batch_size = BATCH_SIZE\n",
    ")"
   ]
  },
  {
   "cell_type": "code",
   "execution_count": 0,
   "metadata": {
    "colab": {},
    "colab_type": "code",
    "id": "pot9MIvodkUq"
   },
   "outputs": [],
   "source": [
    "test = x_test[200].reshape(1, 32, 32, 3)"
   ]
  },
  {
   "cell_type": "code",
   "execution_count": 27,
   "metadata": {
    "colab": {
     "base_uri": "https://localhost:8080/",
     "height": 34
    },
    "colab_type": "code",
    "id": "cWB7k-rRmusr",
    "outputId": "cf09da65-3a00-456a-a03e-236e7cddb97f"
   },
   "outputs": [
    {
     "data": {
      "text/plain": [
       "array([5])"
      ]
     },
     "execution_count": 27,
     "metadata": {
      "tags": []
     },
     "output_type": "execute_result"
    }
   ],
   "source": [
    "model.model.predict_classes(test)"
   ]
  },
  {
   "cell_type": "code",
   "execution_count": 28,
   "metadata": {
    "colab": {
     "base_uri": "https://localhost:8080/",
     "height": 269
    },
    "colab_type": "code",
    "id": "eiKW79mRnNZM",
    "outputId": "88cfbdd8-df13-4865-dff6-d6c42f708573"
   },
   "outputs": [
    {
     "data": {
      "image/png": "[encoded data removed]",
      "text/plain": [
       "<Figure size 432x288 with 1 Axes>"
      ]
     },
     "metadata": {
      "tags": []
     },
     "output_type": "display_data"
    }
   ],
   "source": [
    "plt.imshow(x_test[200])\n",
    "plt.show()"
   ]
  },
  {
   "cell_type": "code",
   "execution_count": 47,
   "metadata": {
    "colab": {
     "base_uri": "https://localhost:8080/",
     "height": 34
    },
    "colab_type": "code",
    "id": "qvfOzUyO4tAT",
    "outputId": "1ebda4e3-8754-41fe-b73a-12675dd5c5ac"
   },
   "outputs": [
    {
     "name": "stdout",
     "output_type": "stream",
     "text": [
      "Accuracy on the training set is : 0.7549\n"
     ]
    }
   ],
   "source": [
    "y_pred = model.predict_classes(x_test)\n",
    "print('Accuracy on the training set is : {}'.format(accuracy_score(y_pred, y_test)))"
   ]
  },
  {
   "cell_type": "code",
   "execution_count": 0,
   "metadata": {
    "colab": {},
    "colab_type": "code",
    "id": "-nq9JDF_2SOR"
   },
   "outputs": [],
   "source": [
    "def test_function(x):\n",
    "  img = x\n",
    "  test = x.reshape(1,32,32,3)\n",
    "  test = model.predict_classes(test)\n",
    "  if test == 0:\n",
    "    print('It is a airplane')\n",
    "  elif test == 1:\n",
    "    print('It is a automobile')\n",
    "  elif test == 2:\n",
    "    print('It is a bird')\n",
    "  elif test == 3:\n",
    "    print('It is a cat')\n",
    "  elif test == 4:\n",
    "    print('It is a deer')\n",
    "  elif test == 5:\n",
    "    print('It is a dog')\n",
    "  elif test == 6:\n",
    "    print('It is a frog')\n",
    "  elif test == 7:\n",
    "    print('It is a horse')\n",
    "  elif test == 8:\n",
    "    print('It is a ship')\n",
    "  elif test == 9:\n",
    "    print('It is a truck')\n",
    "    \n",
    "  plt.imshow(img)\n",
    "  plt.show()"
   ]
  },
  {
   "cell_type": "code",
   "execution_count": 34,
   "metadata": {
    "colab": {
     "base_uri": "https://localhost:8080/",
     "height": 286
    },
    "colab_type": "code",
    "id": "KSyC1_Kx15Kk",
    "outputId": "0e2bad93-4211-4e80-b283-50a376c234ed"
   },
   "outputs": [
    {
     "name": "stdout",
     "output_type": "stream",
     "text": [
      "It is a dog\n"
     ]
    },
    {
     "data": {
      "image/png": "[encoded data removed]",
      "text/plain": [
       "<Figure size 432x288 with 1 Axes>"
      ]
     },
     "metadata": {
      "tags": []
     },
     "output_type": "display_data"
    }
   ],
   "source": [
    "test_function(x_test[200])"
   ]
  }
 ],
 "metadata": {
  "accelerator": "GPU",
  "colab": {
   "name": "cifer_data.ipynb",
   "provenance": []
  },
  "kernelspec": {
   "display_name": "Python 3",
   "language": "python",
   "name": "python3"
  }
 },
 "nbformat": 4,
 "nbformat_minor": 1
}
