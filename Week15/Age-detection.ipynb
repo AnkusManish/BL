{
 "cells": [
  {
   "cell_type": "code",
   "execution_count": 166,
   "metadata": {
    "_cell_guid": "b1076dfc-b9ad-4769-8c92-a6c4dae69d19",
    "_uuid": "8f2839f25d086af736a60e9eeb907d3b93b6e0e5"
   },
   "outputs": [],
   "source": [
    "import tensorflow as tf\n",
    "from keras.datasets import cifar10\n",
    "\n",
    "import os\n",
    "import pandas as pd\n",
    "import matplotlib.pyplot as plt\n",
    "import numpy as np\n",
    "import tensorflow as tf\n",
    "from PIL import Image\n",
    "from tensorflow.keras.preprocessing.image import ImageDataGenerator\n",
    "from keras.utils.np_utils import to_categorical\n",
    "from sklearn.preprocessing import LabelEncoder\n",
    "from sklearn.model_selection import train_test_split\n",
    "from sklearn.metrics import accuracy_score\n",
    "\n",
    "from keras.optimizers import Adam\n",
    "from keras.models import Sequential, load_model\n",
    "\n",
    "from keras.layers import Dense, Dropout, Flatten, Activation\n",
    "\n",
    "from keras.layers.convolutional import Conv2D, MaxPooling2D"
   ]
  },
  {
   "cell_type": "code",
   "execution_count": 167,
   "metadata": {},
   "outputs": [],
   "source": [
    "base_dir = '../input/age-detection/'\n",
    "train_dir = os.path.join(base_dir, 'Train/')\n",
    "test_dir = os.path.join(base_dir, 'Test/')\n",
    "\n",
    "train_labels = pd.read_csv('../input/age-detection/train.csv')"
   ]
  },
  {
   "cell_type": "code",
   "execution_count": 168,
   "metadata": {},
   "outputs": [
    {
     "name": "stdout",
     "output_type": "stream",
     "text": [
      "total train images: 19906\n",
      "total test images: 6636\n"
     ]
    }
   ],
   "source": [
    "train = len(os.listdir(train_dir))\n",
    "test = len(os.listdir(test_dir))\n",
    "\n",
    "print('total train images:', train)\n",
    "print('total test images:', test)"
   ]
  },
  {
   "cell_type": "code",
   "execution_count": 169,
   "metadata": {},
   "outputs": [],
   "source": [
    "features=[]\n",
    "labels=[]\n",
    "for each in os.listdir(train_dir):\n",
    "    features.append(np.asarray(Image.open(train_dir+each).resize((64,64))))\n",
    "    labels.append(np.asarray(train_labels[train_labels['ID']==each]['Class']))"
   ]
  },
  {
   "cell_type": "code",
   "execution_count": 170,
   "metadata": {},
   "outputs": [
    {
     "data": {
      "text/plain": [
       "(64, 64, 3)"
      ]
     },
     "execution_count": 170,
     "metadata": {},
     "output_type": "execute_result"
    }
   ],
   "source": [
    "images[0].shape"
   ]
  },
  {
   "cell_type": "code",
   "execution_count": 199,
   "metadata": {},
   "outputs": [],
   "source": [
    "X = np.array(images)\n",
    "y = np.array(labels)\n",
    "lb = LabelEncoder()\n",
    "y = lb.fit_transform(labels)\n",
    "y = to_categorical(y)"
   ]
  },
  {
   "cell_type": "code",
   "execution_count": 200,
   "metadata": {},
   "outputs": [
    {
     "data": {
      "text/plain": [
       "((19906, 3), (19906, 64, 64, 3))"
      ]
     },
     "execution_count": 200,
     "metadata": {},
     "output_type": "execute_result"
    }
   ],
   "source": [
    "y.shape, X.shape"
   ]
  },
  {
   "cell_type": "code",
   "execution_count": 201,
   "metadata": {},
   "outputs": [],
   "source": [
    "X_train, X_test, y_train, y_test = train_test_split(X, y, test_size=0.3, random_state=42)"
   ]
  },
  {
   "cell_type": "code",
   "execution_count": 202,
   "metadata": {},
   "outputs": [],
   "source": [
    "model = Sequential()\n",
    "model.add(Conv2D(32, (3, 3), padding='same',input_shape=(64,64,3)))\n",
    "model.add(Activation('relu'))\n",
    "model.add(Conv2D(32, (3, 3)))\n",
    "model.add(Activation('relu'))\n",
    "model.add(MaxPooling2D(pool_size=(2, 2)))\n",
    "model.add(Dropout(0.25))\n",
    "\n",
    "model.add(Conv2D(64, (3, 3)))\n",
    "model.add(Activation('relu'))\n",
    "model.add(MaxPooling2D(pool_size=(2, 2)))\n",
    "model.add(Dropout(0.25))\n",
    "\n",
    "model.add(Flatten())\n",
    "model.add(Dense(512))\n",
    "model.add(Activation('relu'))\n",
    "model.add(Dropout(0.5))\n",
    "model.add(Dense(3))\n",
    "model.add(Activation('softmax'))\n",
    "\n",
    "opt = Adam(lr = 0.0001)\n"
   ]
  },
  {
   "cell_type": "code",
   "execution_count": 204,
   "metadata": {},
   "outputs": [],
   "source": [
    "model.compile(optimizer=opt,\n",
    "              loss='categorical_crossentropy',\n",
    "              metrics=['accuracy'])"
   ]
  },
  {
   "cell_type": "code",
   "execution_count": 205,
   "metadata": {},
   "outputs": [
    {
     "name": "stdout",
     "output_type": "stream",
     "text": [
      "Model: \"sequential_12\"\n",
      "_________________________________________________________________\n",
      "Layer (type)                 Output Shape              Param #   \n",
      "=================================================================\n",
      "conv2d_43 (Conv2D)           (None, 64, 64, 32)        896       \n",
      "_________________________________________________________________\n",
      "activation_64 (Activation)   (None, 64, 64, 32)        0         \n",
      "_________________________________________________________________\n",
      "conv2d_44 (Conv2D)           (None, 62, 62, 32)        9248      \n",
      "_________________________________________________________________\n",
      "activation_65 (Activation)   (None, 62, 62, 32)        0         \n",
      "_________________________________________________________________\n",
      "max_pooling2d_23 (MaxPooling (None, 31, 31, 32)        0         \n",
      "_________________________________________________________________\n",
      "dropout_34 (Dropout)         (None, 31, 31, 32)        0         \n",
      "_________________________________________________________________\n",
      "conv2d_45 (Conv2D)           (None, 29, 29, 64)        18496     \n",
      "_________________________________________________________________\n",
      "activation_66 (Activation)   (None, 29, 29, 64)        0         \n",
      "_________________________________________________________________\n",
      "max_pooling2d_24 (MaxPooling (None, 14, 14, 64)        0         \n",
      "_________________________________________________________________\n",
      "dropout_35 (Dropout)         (None, 14, 14, 64)        0         \n",
      "_________________________________________________________________\n",
      "flatten_12 (Flatten)         (None, 12544)             0         \n",
      "_________________________________________________________________\n",
      "dense_22 (Dense)             (None, 512)               6423040   \n",
      "_________________________________________________________________\n",
      "activation_67 (Activation)   (None, 512)               0         \n",
      "_________________________________________________________________\n",
      "dropout_36 (Dropout)         (None, 512)               0         \n",
      "_________________________________________________________________\n",
      "dense_23 (Dense)             (None, 3)                 1539      \n",
      "_________________________________________________________________\n",
      "activation_68 (Activation)   (None, 3)                 0         \n",
      "=================================================================\n",
      "Total params: 6,453,219\n",
      "Trainable params: 6,453,219\n",
      "Non-trainable params: 0\n",
      "_________________________________________________________________\n"
     ]
    }
   ],
   "source": [
    "model.summary()\n"
   ]
  },
  {
   "cell_type": "code",
   "execution_count": 206,
   "metadata": {},
   "outputs": [
    {
     "name": "stdout",
     "output_type": "stream",
     "text": [
      "Epoch 1/15\n",
      "13934/13934 [==============================] - 10s 736us/step - loss: 2.1311 - accuracy: 0.5438\n",
      "Epoch 2/15\n",
      "13934/13934 [==============================] - 10s 699us/step - loss: 0.8462 - accuracy: 0.6298\n",
      "Epoch 3/15\n",
      "13934/13934 [==============================] - 10s 702us/step - loss: 0.7944 - accuracy: 0.6496\n",
      "Epoch 4/15\n",
      "13934/13934 [==============================] - 10s 702us/step - loss: 0.7548 - accuracy: 0.6712\n",
      "Epoch 5/15\n",
      "13934/13934 [==============================] - 10s 700us/step - loss: 0.7133 - accuracy: 0.6947\n",
      "Epoch 6/15\n",
      "13934/13934 [==============================] - 10s 695us/step - loss: 0.6715 - accuracy: 0.7121\n",
      "Epoch 7/15\n",
      "13934/13934 [==============================] - 10s 698us/step - loss: 0.6250 - accuracy: 0.7369\n",
      "Epoch 8/15\n",
      "13934/13934 [==============================] - 10s 700us/step - loss: 0.5800 - accuracy: 0.7589\n",
      "Epoch 9/15\n",
      "13934/13934 [==============================] - 10s 700us/step - loss: 0.5353 - accuracy: 0.7762\n",
      "Epoch 10/15\n",
      "13934/13934 [==============================] - 10s 699us/step - loss: 0.4904 - accuracy: 0.7970\n",
      "Epoch 11/15\n",
      "13934/13934 [==============================] - 10s 695us/step - loss: 0.4451 - accuracy: 0.8195\n",
      "Epoch 12/15\n",
      "13934/13934 [==============================] - 10s 697us/step - loss: 0.4016 - accuracy: 0.8387\n",
      "Epoch 13/15\n",
      "13934/13934 [==============================] - 10s 706us/step - loss: 0.3629 - accuracy: 0.8578\n",
      "Epoch 14/15\n",
      "13934/13934 [==============================] - 10s 693us/step - loss: 0.3180 - accuracy: 0.8692\n",
      "Epoch 15/15\n",
      "13934/13934 [==============================] - 10s 694us/step - loss: 0.2849 - accuracy: 0.8896\n"
     ]
    }
   ],
   "source": [
    "history = model.fit(\n",
    "    X_train,\n",
    "    y_train,\n",
    "    epochs=15,\n",
    "    batch_size = 10\n",
    ")"
   ]
  },
  {
   "cell_type": "code",
   "execution_count": 207,
   "metadata": {},
   "outputs": [],
   "source": [
    "y_pred = model.predict_classes(X_test)"
   ]
  },
  {
   "cell_type": "code",
   "execution_count": 208,
   "metadata": {},
   "outputs": [
    {
     "name": "stderr",
     "output_type": "stream",
     "text": [
      "/opt/conda/lib/python3.6/site-packages/sklearn/preprocessing/label.py:235: DataConversionWarning: A column-vector y was passed when a 1d array was expected. Please change the shape of y to (n_samples, ), for example using ravel().\n",
      "  y = column_or_1d(y, warn=True)\n"
     ]
    }
   ],
   "source": [
    "X = np.array(images)\n",
    "y = np.array(labels)\n",
    "lb = LabelEncoder()\n",
    "y = lb.fit_transform(labels)\n",
    "#y = to_categorical(y)\n",
    "X_train, X_test, y_train, y_test = train_test_split(X, y, test_size=0.3, random_state=42)"
   ]
  },
  {
   "cell_type": "code",
   "execution_count": 209,
   "metadata": {},
   "outputs": [
    {
     "data": {
      "text/plain": [
       "0.7627260549229739"
      ]
     },
     "execution_count": 209,
     "metadata": {},
     "output_type": "execute_result"
    }
   ],
   "source": [
    "accuracy_score(y_pred, y_test)"
   ]
  },
  {
   "cell_type": "code",
   "execution_count": 210,
   "metadata": {},
   "outputs": [],
   "source": [
    "test_images=[]\n",
    "for each in os.listdir(test_dir):\n",
    "    test_images.append(np.asarray(Image.open(test_dir+each).resize((64,64))))"
   ]
  },
  {
   "cell_type": "code",
   "execution_count": 211,
   "metadata": {},
   "outputs": [],
   "source": [
    "test_images_pred = model.predict_classes(np.array(test_images))"
   ]
  },
  {
   "cell_type": "code",
   "execution_count": 212,
   "metadata": {},
   "outputs": [
    {
     "data": {
      "text/plain": [
       "array([2, 0, 2, ..., 2, 0, 0])"
      ]
     },
     "execution_count": 212,
     "metadata": {},
     "output_type": "execute_result"
    }
   ],
   "source": [
    "test_images_pred"
   ]
  }
 ],
 "metadata": {
  "kernelspec": {
   "display_name": "Python 3",
   "language": "python",
   "name": "python3"
  },
  "language_info": {
   "codemirror_mode": {
    "name": "ipython",
    "version": 3
   },
   "file_extension": ".py",
   "mimetype": "text/x-python",
   "name": "python",
   "nbconvert_exporter": "python",
   "pygments_lexer": "ipython3",
   "version": "3.7.4"
  }
 },
 "nbformat": 4,
 "nbformat_minor": 1
}
