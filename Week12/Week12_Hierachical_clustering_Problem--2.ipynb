{
 "cells": [
  {
   "cell_type": "code",
   "execution_count": 1,
   "metadata": {},
   "outputs": [],
   "source": [
    "import numpy as np\n",
    "import pandas as pd\n",
    "import matplotlib.pyplot as plt\n",
    "%matplotlib inline\n",
    "import seaborn as sea\n",
    "from sklearn.cluster import KMeans\n",
    "from sklearn.preprocessing import normalize\n",
    "from scipy.cluster.hierarchy import linkage, dendrogram\n",
    "from sklearn.cluster import AgglomerativeClustering\n",
    "import random\n",
    "import time\n",
    "\n",
    "import warnings\n",
    "warnings.filterwarnings('ignore')"
   ]
  },
  {
   "cell_type": "code",
   "execution_count": 2,
   "metadata": {},
   "outputs": [],
   "source": [
    "data = pd.read_csv('/Users/ankusmanish/Desktop/Desktop/Training/Datasets/Week 12/USCensus1990.data.txt')"
   ]
  },
  {
   "cell_type": "code",
   "execution_count": 3,
   "metadata": {},
   "outputs": [
    {
     "name": "stdout",
     "output_type": "stream",
     "text": [
      "<class 'pandas.core.frame.DataFrame'>\n",
      "RangeIndex: 2458285 entries, 0 to 2458284\n",
      "Data columns (total 69 columns):\n",
      "caseid       int64\n",
      "dAge         int64\n",
      "dAncstry1    int64\n",
      "dAncstry2    int64\n",
      "iAvail       int64\n",
      "iCitizen     int64\n",
      "iClass       int64\n",
      "dDepart      int64\n",
      "iDisabl1     int64\n",
      "iDisabl2     int64\n",
      "iEnglish     int64\n",
      "iFeb55       int64\n",
      "iFertil      int64\n",
      "dHispanic    int64\n",
      "dHour89      int64\n",
      "dHours       int64\n",
      "iImmigr      int64\n",
      "dIncome1     int64\n",
      "dIncome2     int64\n",
      "dIncome3     int64\n",
      "dIncome4     int64\n",
      "dIncome5     int64\n",
      "dIncome6     int64\n",
      "dIncome7     int64\n",
      "dIncome8     int64\n",
      "dIndustry    int64\n",
      "iKorean      int64\n",
      "iLang1       int64\n",
      "iLooking     int64\n",
      "iMarital     int64\n",
      "iMay75880    int64\n",
      "iMeans       int64\n",
      "iMilitary    int64\n",
      "iMobility    int64\n",
      "iMobillim    int64\n",
      "dOccup       int64\n",
      "iOthrserv    int64\n",
      "iPerscare    int64\n",
      "dPOB         int64\n",
      "dPoverty     int64\n",
      "dPwgt1       int64\n",
      "iRagechld    int64\n",
      "dRearning    int64\n",
      "iRelat1      int64\n",
      "iRelat2      int64\n",
      "iRemplpar    int64\n",
      "iRiders      int64\n",
      "iRlabor      int64\n",
      "iRownchld    int64\n",
      "dRpincome    int64\n",
      "iRPOB        int64\n",
      "iRrelchld    int64\n",
      "iRspouse     int64\n",
      "iRvetserv    int64\n",
      "iSchool      int64\n",
      "iSept80      int64\n",
      "iSex         int64\n",
      "iSubfam1     int64\n",
      "iSubfam2     int64\n",
      "iTmpabsnt    int64\n",
      "dTravtime    int64\n",
      "iVietnam     int64\n",
      "dWeek89      int64\n",
      "iWork89      int64\n",
      "iWorklwk     int64\n",
      "iWWII        int64\n",
      "iYearsch     int64\n",
      "iYearwrk     int64\n",
      "dYrsserv     int64\n",
      "dtypes: int64(69)\n",
      "memory usage: 1.3 GB\n"
     ]
    }
   ],
   "source": [
    "data.info()"
   ]
  },
  {
   "cell_type": "code",
   "execution_count": 4,
   "metadata": {},
   "outputs": [
    {
     "data": {
      "text/html": [
       "<div>\n",
       "<style scoped>\n",
       "    .dataframe tbody tr th:only-of-type {\n",
       "        vertical-align: middle;\n",
       "    }\n",
       "\n",
       "    .dataframe tbody tr th {\n",
       "        vertical-align: top;\n",
       "    }\n",
       "\n",
       "    .dataframe thead th {\n",
       "        text-align: right;\n",
       "    }\n",
       "</style>\n",
       "<table border=\"1\" class=\"dataframe\">\n",
       "  <thead>\n",
       "    <tr style=\"text-align: right;\">\n",
       "      <th></th>\n",
       "      <th>caseid</th>\n",
       "      <th>dAge</th>\n",
       "      <th>dAncstry1</th>\n",
       "      <th>dAncstry2</th>\n",
       "      <th>iAvail</th>\n",
       "      <th>iCitizen</th>\n",
       "      <th>iClass</th>\n",
       "      <th>dDepart</th>\n",
       "      <th>iDisabl1</th>\n",
       "      <th>iDisabl2</th>\n",
       "      <th>...</th>\n",
       "      <th>iTmpabsnt</th>\n",
       "      <th>dTravtime</th>\n",
       "      <th>iVietnam</th>\n",
       "      <th>dWeek89</th>\n",
       "      <th>iWork89</th>\n",
       "      <th>iWorklwk</th>\n",
       "      <th>iWWII</th>\n",
       "      <th>iYearsch</th>\n",
       "      <th>iYearwrk</th>\n",
       "      <th>dYrsserv</th>\n",
       "    </tr>\n",
       "  </thead>\n",
       "  <tbody>\n",
       "    <tr>\n",
       "      <td>0</td>\n",
       "      <td>10000</td>\n",
       "      <td>5</td>\n",
       "      <td>0</td>\n",
       "      <td>1</td>\n",
       "      <td>0</td>\n",
       "      <td>0</td>\n",
       "      <td>5</td>\n",
       "      <td>3</td>\n",
       "      <td>2</td>\n",
       "      <td>2</td>\n",
       "      <td>...</td>\n",
       "      <td>0</td>\n",
       "      <td>5</td>\n",
       "      <td>0</td>\n",
       "      <td>2</td>\n",
       "      <td>1</td>\n",
       "      <td>1</td>\n",
       "      <td>0</td>\n",
       "      <td>11</td>\n",
       "      <td>1</td>\n",
       "      <td>0</td>\n",
       "    </tr>\n",
       "    <tr>\n",
       "      <td>1</td>\n",
       "      <td>10001</td>\n",
       "      <td>6</td>\n",
       "      <td>1</td>\n",
       "      <td>1</td>\n",
       "      <td>0</td>\n",
       "      <td>0</td>\n",
       "      <td>7</td>\n",
       "      <td>5</td>\n",
       "      <td>2</td>\n",
       "      <td>2</td>\n",
       "      <td>...</td>\n",
       "      <td>0</td>\n",
       "      <td>1</td>\n",
       "      <td>0</td>\n",
       "      <td>2</td>\n",
       "      <td>1</td>\n",
       "      <td>1</td>\n",
       "      <td>0</td>\n",
       "      <td>5</td>\n",
       "      <td>1</td>\n",
       "      <td>0</td>\n",
       "    </tr>\n",
       "    <tr>\n",
       "      <td>2</td>\n",
       "      <td>10002</td>\n",
       "      <td>3</td>\n",
       "      <td>1</td>\n",
       "      <td>2</td>\n",
       "      <td>0</td>\n",
       "      <td>0</td>\n",
       "      <td>7</td>\n",
       "      <td>4</td>\n",
       "      <td>2</td>\n",
       "      <td>2</td>\n",
       "      <td>...</td>\n",
       "      <td>0</td>\n",
       "      <td>2</td>\n",
       "      <td>0</td>\n",
       "      <td>2</td>\n",
       "      <td>1</td>\n",
       "      <td>1</td>\n",
       "      <td>0</td>\n",
       "      <td>10</td>\n",
       "      <td>1</td>\n",
       "      <td>0</td>\n",
       "    </tr>\n",
       "    <tr>\n",
       "      <td>3</td>\n",
       "      <td>10003</td>\n",
       "      <td>4</td>\n",
       "      <td>1</td>\n",
       "      <td>2</td>\n",
       "      <td>0</td>\n",
       "      <td>0</td>\n",
       "      <td>1</td>\n",
       "      <td>3</td>\n",
       "      <td>2</td>\n",
       "      <td>2</td>\n",
       "      <td>...</td>\n",
       "      <td>0</td>\n",
       "      <td>1</td>\n",
       "      <td>0</td>\n",
       "      <td>1</td>\n",
       "      <td>1</td>\n",
       "      <td>1</td>\n",
       "      <td>0</td>\n",
       "      <td>10</td>\n",
       "      <td>1</td>\n",
       "      <td>0</td>\n",
       "    </tr>\n",
       "    <tr>\n",
       "      <td>4</td>\n",
       "      <td>10004</td>\n",
       "      <td>7</td>\n",
       "      <td>1</td>\n",
       "      <td>1</td>\n",
       "      <td>0</td>\n",
       "      <td>0</td>\n",
       "      <td>0</td>\n",
       "      <td>0</td>\n",
       "      <td>2</td>\n",
       "      <td>2</td>\n",
       "      <td>...</td>\n",
       "      <td>3</td>\n",
       "      <td>0</td>\n",
       "      <td>0</td>\n",
       "      <td>0</td>\n",
       "      <td>2</td>\n",
       "      <td>2</td>\n",
       "      <td>0</td>\n",
       "      <td>5</td>\n",
       "      <td>6</td>\n",
       "      <td>0</td>\n",
       "    </tr>\n",
       "  </tbody>\n",
       "</table>\n",
       "<p>5 rows × 69 columns</p>\n",
       "</div>"
      ],
      "text/plain": [
       "   caseid  dAge  dAncstry1  dAncstry2  iAvail  iCitizen  iClass  dDepart  \\\n",
       "0   10000     5          0          1       0         0       5        3   \n",
       "1   10001     6          1          1       0         0       7        5   \n",
       "2   10002     3          1          2       0         0       7        4   \n",
       "3   10003     4          1          2       0         0       1        3   \n",
       "4   10004     7          1          1       0         0       0        0   \n",
       "\n",
       "   iDisabl1  iDisabl2  ...  iTmpabsnt  dTravtime  iVietnam  dWeek89  iWork89  \\\n",
       "0         2         2  ...          0          5         0        2        1   \n",
       "1         2         2  ...          0          1         0        2        1   \n",
       "2         2         2  ...          0          2         0        2        1   \n",
       "3         2         2  ...          0          1         0        1        1   \n",
       "4         2         2  ...          3          0         0        0        2   \n",
       "\n",
       "   iWorklwk  iWWII  iYearsch  iYearwrk  dYrsserv  \n",
       "0         1      0        11         1         0  \n",
       "1         1      0         5         1         0  \n",
       "2         1      0        10         1         0  \n",
       "3         1      0        10         1         0  \n",
       "4         2      0         5         6         0  \n",
       "\n",
       "[5 rows x 69 columns]"
      ]
     },
     "execution_count": 4,
     "metadata": {},
     "output_type": "execute_result"
    }
   ],
   "source": [
    "data.head()"
   ]
  },
  {
   "cell_type": "code",
   "execution_count": 5,
   "metadata": {},
   "outputs": [],
   "source": [
    "train = data.sample(frac = 0.005, random_state = 42)"
   ]
  },
  {
   "cell_type": "code",
   "execution_count": 6,
   "metadata": {},
   "outputs": [
    {
     "data": {
      "text/plain": [
       "(12291, 69)"
      ]
     },
     "execution_count": 6,
     "metadata": {},
     "output_type": "execute_result"
    }
   ],
   "source": [
    "train.shape"
   ]
  },
  {
   "cell_type": "markdown",
   "metadata": {},
   "source": [
    "## FInding K value"
   ]
  },
  {
   "cell_type": "code",
   "execution_count": 10,
   "metadata": {},
   "outputs": [
    {
     "name": "stdout",
     "output_type": "stream",
     "text": [
      "Total time taken : 21.53571891784668\n"
     ]
    },
    {
     "data": {
      "image/png": "[encoded data removed]",
      "text/plain": [
       "<Figure size 576x432 with 1 Axes>"
      ]
     },
     "metadata": {
      "needs_background": "light"
     },
     "output_type": "display_data"
    }
   ],
   "source": [
    "start_time = time.time()\n",
    "SSD = []\n",
    "\n",
    "for i in range(1,15):\n",
    "    clf = KMeans(n_clusters = i)\n",
    "    clf.fit(train)\n",
    "    SSD.append(clf.inertia_)\n",
    "print('Total time taken : {}'.format(time.time() - start_time))\n",
    "\n",
    "plt.figure(figsize = (8,6))\n",
    "plt.plot(range(1,15), SSD, 'bx')\n",
    "plt.plot(range(1,15), SSD)\n",
    "plt.xlabel('K Value', fontsize = 15)\n",
    "plt.ylabel('Inertia', fontsize = 15)\n",
    "plt.title('Graph for showing the optimal K value', fontsize = 20, pad = 20)\n",
    "plt.show()"
   ]
  },
  {
   "cell_type": "markdown",
   "metadata": {},
   "source": [
    "## Building the model"
   ]
  },
  {
   "cell_type": "code",
   "execution_count": 8,
   "metadata": {},
   "outputs": [
    {
     "data": {
      "image/png": "[encoded data removed]",
      "text/plain": [
       "<Figure size 720x504 with 1 Axes>"
      ]
     },
     "metadata": {
      "needs_background": "light"
     },
     "output_type": "display_data"
    }
   ],
   "source": [
    "plt.figure(figsize=(10, 7))  \n",
    "plt.title(\"Dendrograms\")  \n",
    "dend = dendrogram(linkage(train, method='ward'))"
   ]
  },
  {
   "cell_type": "code",
   "execution_count": 9,
   "metadata": {},
   "outputs": [
    {
     "data": {
      "image/png": "[encoded data removed]",
      "text/plain": [
       "<Figure size 720x504 with 1 Axes>"
      ]
     },
     "metadata": {
      "needs_background": "light"
     },
     "output_type": "display_data"
    }
   ],
   "source": [
    "plt.figure(figsize=(10, 7))  \n",
    "plt.title(\"Dendrograms\")  \n",
    "dend = dendrogram(linkage(train, method='ward'))\n",
    "plt.axhline(y=0.6, color='r', linestyle='--')\n",
    "plt.show()"
   ]
  },
  {
   "cell_type": "code",
   "execution_count": 7,
   "metadata": {},
   "outputs": [
    {
     "data": {
      "text/plain": [
       "AgglomerativeClustering(affinity='euclidean', compute_full_tree='auto',\n",
       "                        connectivity=None, distance_threshold=None,\n",
       "                        linkage='ward', memory=None, n_clusters=5,\n",
       "                        pooling_func='deprecated')"
      ]
     },
     "execution_count": 7,
     "metadata": {},
     "output_type": "execute_result"
    }
   ],
   "source": [
    "cluster = AgglomerativeClustering(n_clusters=5, affinity='euclidean', linkage='ward')  \n",
    "cluster.fit(train)"
   ]
  },
  {
   "cell_type": "code",
   "execution_count": null,
   "metadata": {},
   "outputs": [],
   "source": []
  }
 ],
 "metadata": {
  "kernelspec": {
   "display_name": "Python 3",
   "language": "python",
   "name": "python3"
  },
  "language_info": {
   "codemirror_mode": {
    "name": "ipython",
    "version": 3
   },
   "file_extension": ".py",
   "mimetype": "text/x-python",
   "name": "python",
   "nbconvert_exporter": "python",
   "pygments_lexer": "ipython3",
   "version": "3.7.4"
  }
 },
 "nbformat": 4,
 "nbformat_minor": 2
}
